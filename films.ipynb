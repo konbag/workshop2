{
 "cells": [
  {
   "cell_type": "markdown",
   "id": "5f1ba79b",
   "metadata": {
    "toc": true
   },
   "source": [
    "<h1>Table of Contents<span class=\"tocSkip\"></span></h1>\n",
    "<div class=\"toc\"><ul class=\"toc-item\"><li><span><a href=\"#Import-modules-and-read-datasets\" data-toc-modified-id=\"Import-modules-and-read-datasets-1\"><span class=\"toc-item-num\">1&nbsp;&nbsp;</span>Import modules and read datasets</a></span></li><li><span><a href=\"#Functions-for-next-analysis\" data-toc-modified-id=\"Functions-for-next-analysis-2\"><span class=\"toc-item-num\">2&nbsp;&nbsp;</span>Functions for next analysis</a></span></li><li><span><a href=\"#Extract-vocabulary-from-PDF\" data-toc-modified-id=\"Extract-vocabulary-from-PDF-3\"><span class=\"toc-item-num\">3&nbsp;&nbsp;</span>Extract vocabulary from PDF</a></span><ul class=\"toc-item\"><li><span><a href=\"#Common-functions-for-extract-text-from-pdf\" data-toc-modified-id=\"Common-functions-for-extract-text-from-pdf-3.1\"><span class=\"toc-item-num\">3.1&nbsp;&nbsp;</span>Common functions for extract text from pdf</a></span></li><li><span><a href=\"#Low-levels-in-British-English\" data-toc-modified-id=\"Low-levels-in-British-English-3.2\"><span class=\"toc-item-num\">3.2&nbsp;&nbsp;</span>Low levels in British English</a></span></li><li><span><a href=\"#High-levels-in-British-English\" data-toc-modified-id=\"High-levels-in-British-English-3.3\"><span class=\"toc-item-num\">3.3&nbsp;&nbsp;</span>High levels in British English</a></span></li><li><span><a href=\"#Low-levels-in-American-English\" data-toc-modified-id=\"Low-levels-in-American-English-3.4\"><span class=\"toc-item-num\">3.4&nbsp;&nbsp;</span>Low levels in American English</a></span></li><li><span><a href=\"#High-levels-in-American-English\" data-toc-modified-id=\"High-levels-in-American-English-3.5\"><span class=\"toc-item-num\">3.5&nbsp;&nbsp;</span>High levels in American English</a></span></li></ul></li><li><span><a href=\"#Subtitles---tests\" data-toc-modified-id=\"Subtitles---tests-4\"><span class=\"toc-item-num\">4&nbsp;&nbsp;</span>Subtitles - tests</a></span></li><li><span><a href=\"#Data-preprocessing\" data-toc-modified-id=\"Data-preprocessing-5\"><span class=\"toc-item-num\">5&nbsp;&nbsp;</span>Data preprocessing</a></span></li><li><span><a href=\"#Data-prepear\" data-toc-modified-id=\"Data-prepear-6\"><span class=\"toc-item-num\">6&nbsp;&nbsp;</span>Data prepear</a></span><ul class=\"toc-item\"><li><span><a href=\"#Spliting-data\" data-toc-modified-id=\"Spliting-data-6.1\"><span class=\"toc-item-num\">6.1&nbsp;&nbsp;</span>Spliting data</a></span></li><li><span><a href=\"#BoW\" data-toc-modified-id=\"BoW-6.2\"><span class=\"toc-item-num\">6.2&nbsp;&nbsp;</span>BoW</a></span></li><li><span><a href=\"#TF-IDF\" data-toc-modified-id=\"TF-IDF-6.3\"><span class=\"toc-item-num\">6.3&nbsp;&nbsp;</span>TF-IDF</a></span></li></ul></li><li><span><a href=\"#Building-models\" data-toc-modified-id=\"Building-models-7\"><span class=\"toc-item-num\">7&nbsp;&nbsp;</span>Building models</a></span><ul class=\"toc-item\"><li><span><a href=\"#Naive-Bayes-(BoW)\" data-toc-modified-id=\"Naive-Bayes-(BoW)-7.1\"><span class=\"toc-item-num\">7.1&nbsp;&nbsp;</span>Naive Bayes (BoW)</a></span><ul class=\"toc-item\"><li><span><a href=\"#Lemmas\" data-toc-modified-id=\"Lemmas-7.1.1\"><span class=\"toc-item-num\">7.1.1&nbsp;&nbsp;</span>Lemmas</a></span></li><li><span><a href=\"#Stems\" data-toc-modified-id=\"Stems-7.1.2\"><span class=\"toc-item-num\">7.1.2&nbsp;&nbsp;</span>Stems</a></span></li></ul></li><li><span><a href=\"#Naive-Bayes-(TF-IDF)\" data-toc-modified-id=\"Naive-Bayes-(TF-IDF)-7.2\"><span class=\"toc-item-num\">7.2&nbsp;&nbsp;</span>Naive Bayes (TF-IDF)</a></span><ul class=\"toc-item\"><li><span><a href=\"#Lemmas\" data-toc-modified-id=\"Lemmas-7.2.1\"><span class=\"toc-item-num\">7.2.1&nbsp;&nbsp;</span>Lemmas</a></span></li><li><span><a href=\"#Stem\" data-toc-modified-id=\"Stem-7.2.2\"><span class=\"toc-item-num\">7.2.2&nbsp;&nbsp;</span>Stem</a></span></li></ul></li><li><span><a href=\"#Random-Forest-(BoW)\" data-toc-modified-id=\"Random-Forest-(BoW)-7.3\"><span class=\"toc-item-num\">7.3&nbsp;&nbsp;</span>Random Forest (BoW)</a></span><ul class=\"toc-item\"><li><span><a href=\"#Lemmas\" data-toc-modified-id=\"Lemmas-7.3.1\"><span class=\"toc-item-num\">7.3.1&nbsp;&nbsp;</span>Lemmas</a></span></li><li><span><a href=\"#Stems\" data-toc-modified-id=\"Stems-7.3.2\"><span class=\"toc-item-num\">7.3.2&nbsp;&nbsp;</span>Stems</a></span></li></ul></li><li><span><a href=\"#Random-Forest-(TF-IDF)\" data-toc-modified-id=\"Random-Forest-(TF-IDF)-7.4\"><span class=\"toc-item-num\">7.4&nbsp;&nbsp;</span>Random Forest (TF-IDF)</a></span><ul class=\"toc-item\"><li><span><a href=\"#Lemmas\" data-toc-modified-id=\"Lemmas-7.4.1\"><span class=\"toc-item-num\">7.4.1&nbsp;&nbsp;</span>Lemmas</a></span></li><li><span><a href=\"#Stem\" data-toc-modified-id=\"Stem-7.4.2\"><span class=\"toc-item-num\">7.4.2&nbsp;&nbsp;</span>Stem</a></span></li></ul></li><li><span><a href=\"#Logistic-Regression-(BoW)\" data-toc-modified-id=\"Logistic-Regression-(BoW)-7.5\"><span class=\"toc-item-num\">7.5&nbsp;&nbsp;</span>Logistic Regression (BoW)</a></span><ul class=\"toc-item\"><li><span><a href=\"#Lemmas\" data-toc-modified-id=\"Lemmas-7.5.1\"><span class=\"toc-item-num\">7.5.1&nbsp;&nbsp;</span>Lemmas</a></span></li><li><span><a href=\"#Stems\" data-toc-modified-id=\"Stems-7.5.2\"><span class=\"toc-item-num\">7.5.2&nbsp;&nbsp;</span>Stems</a></span></li></ul></li><li><span><a href=\"#Logistic-Regression:-TF-IDF\" data-toc-modified-id=\"Logistic-Regression:-TF-IDF-7.6\"><span class=\"toc-item-num\">7.6&nbsp;&nbsp;</span>Logistic Regression: TF-IDF</a></span><ul class=\"toc-item\"><li><span><a href=\"#Lemmas\" data-toc-modified-id=\"Lemmas-7.6.1\"><span class=\"toc-item-num\">7.6.1&nbsp;&nbsp;</span>Lemmas</a></span></li><li><span><a href=\"#Stems\" data-toc-modified-id=\"Stems-7.6.2\"><span class=\"toc-item-num\">7.6.2&nbsp;&nbsp;</span>Stems</a></span></li></ul></li><li><span><a href=\"#Random-Forest:-alternative\" data-toc-modified-id=\"Random-Forest:-alternative-7.7\"><span class=\"toc-item-num\">7.7&nbsp;&nbsp;</span>Random Forest: alternative</a></span></li></ul></li><li><span><a href=\"#Results\" data-toc-modified-id=\"Results-8\"><span class=\"toc-item-num\">8&nbsp;&nbsp;</span>Results</a></span></li></ul></div>"
   ]
  },
  {
   "cell_type": "markdown",
   "id": "d61a27a4",
   "metadata": {},
   "source": [
    "# Import modules and read datasets"
   ]
  },
  {
   "cell_type": "code",
   "execution_count": 1,
   "id": "52b26796",
   "metadata": {
    "ExecuteTime": {
     "end_time": "2023-04-11T11:06:32.191676Z",
     "start_time": "2023-04-11T11:06:32.179594Z"
    }
   },
   "outputs": [],
   "source": [
    "#!pip install pysrt"
   ]
  },
  {
   "cell_type": "markdown",
   "id": "503ce31f",
   "metadata": {},
   "source": [
    "Примерный план работы:\n",
    "1. Скачать датасет\n",
    "2. Провести EDA\n",
    "3. Попробовать расширить датасет получив информацию из открытых источников.\n",
    "4. Ознакомиться с необходимыми библиотеками и подходами для обработки текстов\n",
    "5. Подготовить данные для обучения модели\n",
    "6. Выбрать метрику\n",
    "7. Обучить модель \n",
    "8. Оценить качество\n",
    "9. Повторять п.4-8"
   ]
  },
  {
   "cell_type": "code",
   "execution_count": 2,
   "id": "39f166a1",
   "metadata": {
    "ExecuteTime": {
     "end_time": "2023-04-11T11:06:32.206481Z",
     "start_time": "2023-04-11T11:06:32.193934Z"
    }
   },
   "outputs": [],
   "source": [
    "#!pip install pdfminer"
   ]
  },
  {
   "cell_type": "code",
   "execution_count": 3,
   "id": "52430209",
   "metadata": {
    "ExecuteTime": {
     "end_time": "2023-04-11T11:06:32.222454Z",
     "start_time": "2023-04-11T11:06:32.208213Z"
    }
   },
   "outputs": [],
   "source": [
    "#import nltk\n",
    "#nltk.download('stopwords')\n",
    "#nltk.download('punkt')\n",
    "#nltk.download('wordnet')\n",
    "#nltk.download('omw-1.4')"
   ]
  },
  {
   "cell_type": "code",
   "execution_count": 4,
   "id": "7ea2eec7",
   "metadata": {
    "ExecuteTime": {
     "end_time": "2023-04-11T11:06:36.212151Z",
     "start_time": "2023-04-11T11:06:32.224729Z"
    }
   },
   "outputs": [],
   "source": [
    "import io\n",
    "import os\n",
    "import codecs\n",
    "import re\n",
    "import pysrt\n",
    "import pandas as pd\n",
    "\n",
    "from nltk.corpus import stopwords\n",
    "from nltk.tokenize import word_tokenize\n",
    "from nltk.stem import WordNetLemmatizer\n",
    "from nltk.stem import PorterStemmer\n",
    "\n",
    "from pdfminer.converter import TextConverter\n",
    "from pdfminer.pdfinterp import PDFPageInterpreter\n",
    "from pdfminer.pdfinterp import PDFResourceManager\n",
    "from pdfminer.pdfpage import PDFPage\n",
    "\n",
    "from sklearn.model_selection import train_test_split\n",
    "from sklearn.feature_extraction.text import CountVectorizer\n",
    "from sklearn.feature_extraction.text import TfidfVectorizer\n",
    "\n",
    "from sklearn.naive_bayes import MultinomialNB\n",
    "from sklearn.ensemble import RandomForestClassifier\n",
    "from sklearn.linear_model import LogisticRegression\n",
    "\n",
    "from sklearn.metrics import accuracy_score\n",
    "from sklearn.metrics import f1_score\n",
    "from sklearn.metrics import roc_curve\n",
    "\n",
    "from sklearn.utils import shuffle\n",
    "\n",
    "from sklearn.metrics import confusion_matrix\n",
    "import matplotlib.pyplot as plt\n",
    "import seaborn as sns"
   ]
  },
  {
   "cell_type": "code",
   "execution_count": 5,
   "id": "cbf6a9a6",
   "metadata": {
    "ExecuteTime": {
     "end_time": "2023-04-11T11:06:36.227574Z",
     "start_time": "2023-04-11T11:06:36.214807Z"
    }
   },
   "outputs": [],
   "source": [
    "# Expand list of English Stop words\n",
    "\n",
    "stop_words = stopwords.words('english')\n",
    "stop_words +=[\"'s\",\"n't\",\"'d\", \"oh\",\"mm\",\"hmm\",\"'ll\",\"'re\",\"'t\",\"'m\",\"'em\", \\\n",
    "              \".mr\", \"c\", \"p\",\"ca\",\"i\",\"mr.\", \"e\",\"x\",\"id\",\"cd\",\"a\",\"b\",\"c\",\"d\"]"
   ]
  },
  {
   "cell_type": "markdown",
   "id": "988aab80",
   "metadata": {},
   "source": [
    "# Functions for next analysis"
   ]
  },
  {
   "cell_type": "code",
   "execution_count": 6,
   "id": "7328fd30",
   "metadata": {
    "ExecuteTime": {
     "end_time": "2023-04-11T11:06:36.243351Z",
     "start_time": "2023-04-11T11:06:36.229266Z"
    }
   },
   "outputs": [],
   "source": [
    "# Rewrite files in unified coding\n",
    "# THIS FUNCTION NOT WORK NOW !!!!!!!!!!!!!!!!!!!!!!!!!!!!!!!!!!!!!!!!!!!!!!!!!!!!\n",
    "\n",
    "def folder_to_utf(folder_path):\n",
    "    # создаём сабфолдер\n",
    "    os.makedirs(os.path.join(folder_path, \"utf-8\"), exist_ok=True)\n",
    "\n",
    "    # итерируем через файлы в папке с сабами\n",
    "    for filename in os.listdir(folder_path):\n",
    "        if filename.endswith(\".srt\"):\n",
    "            # определяем пути файлов\n",
    "            file_path = os.path.join(folder_path, filename)\n",
    "            new_file_path = os.path.join(folder_path, \"utf-8\", filename)\n",
    "\n",
    "            # открываем и читаем оригинальный файл\n",
    "            with codecs.open(file_path, \"r\") as file:\n",
    "                contents = file.read()\n",
    "                file.close()\n",
    "\n",
    "            # записываем новый файл в нужной кодировке\n",
    "            with codecs.open(new_file_path, \"w\", encoding=\"UTF-8\") as new_file:\n",
    "                new_file.write(contents)\n",
    "                new_file.close()"
   ]
  },
  {
   "cell_type": "code",
   "execution_count": 7,
   "id": "322c9095",
   "metadata": {
    "ExecuteTime": {
     "end_time": "2023-04-11T11:06:36.258969Z",
     "start_time": "2023-04-11T11:06:36.244351Z"
    }
   },
   "outputs": [],
   "source": [
    "#folder_to_utf(\".\\\\English_scores\\\\Subtitles_all\\\\Subtitles\\\\\")"
   ]
  },
  {
   "cell_type": "code",
   "execution_count": 8,
   "id": "f1946103",
   "metadata": {
    "ExecuteTime": {
     "end_time": "2023-04-11T11:06:36.275303Z",
     "start_time": "2023-04-11T11:06:36.261100Z"
    }
   },
   "outputs": [],
   "source": [
    "# Constants for regular expressions\n",
    "HTML = r'<.*?>'\n",
    "TAG = r'{.*?}'\n",
    "COMMENTS = r'[\\(\\[][a-zA-Z ]+[\\)\\]]'\n",
    "LETTERS = r'[^a-zA-Z\\'.,!? ]'\n",
    "SPACES = r'([ ])\\1+'\n",
    "DOTS = r'[\\.]+'\n",
    "NUMBERS = r'[1-9]'"
   ]
  },
  {
   "cell_type": "code",
   "execution_count": 9,
   "id": "e7ab877b",
   "metadata": {
    "ExecuteTime": {
     "end_time": "2023-04-11T11:06:36.290368Z",
     "start_time": "2023-04-11T11:06:36.277021Z"
    }
   },
   "outputs": [],
   "source": [
    "# Function for cleaning of subtitles\n",
    "\n",
    "def clean_subs(subs):\n",
    "    txt = re.sub(HTML, ' ', subs) #html тэги меняем на пробел\n",
    "    txt = re.sub(TAG, ' ', txt) #тэги меняем на пробел\n",
    "    txt = re.sub(COMMENTS, ' ', txt) #комменты меняем на пробел\n",
    "    txt = re.sub(LETTERS, ' ', txt) #все что не буквы меняем на пробел\n",
    "    txt = re.sub(SPACES, r'\\1', txt) #повторяющиеся пробелы меняем на один пробел\n",
    "    txt = re.sub(DOTS, r'.', txt)  #многоточие меняем на точку\n",
    "    txt = txt.encode('ascii', 'ignore').decode() #удаляем все что не ascii символы   \n",
    "    txt = \".\".join(txt.lower().split('.')[1:-1]) #удаляем первый и последний субтитр (обычно это реклама)\n",
    "    return txt"
   ]
  },
  {
   "cell_type": "code",
   "execution_count": 10,
   "id": "0bbf9350",
   "metadata": {
    "ExecuteTime": {
     "end_time": "2023-04-11T11:06:36.306353Z",
     "start_time": "2023-04-11T11:06:36.292283Z"
    }
   },
   "outputs": [],
   "source": [
    "# Function for change special symbols in list \n",
    "\n",
    "def change_in_list(my_list, spec_symbol, next_symbol):\n",
    "    local_list = []\n",
    "    for a in my_list:\n",
    "        if a != '':\n",
    "            local_list.append((a.replace(spec_symbol, next_symbol)).strip())\n",
    "    return local_list"
   ]
  },
  {
   "cell_type": "code",
   "execution_count": 11,
   "id": "3fef73b3",
   "metadata": {
    "ExecuteTime": {
     "end_time": "2023-04-11T11:06:36.321913Z",
     "start_time": "2023-04-11T11:06:36.308411Z"
    }
   },
   "outputs": [],
   "source": [
    "lemmatizer = WordNetLemmatizer()\n",
    "stemmer = PorterStemmer()\n",
    "\n",
    "def data_preprocessing(subs):\n",
    "    # data cleaning\n",
    "    text = clean_subs(subs)\n",
    "    text = text.replace('!','.')\n",
    "    text = text.replace('?','.')\n",
    "    text = text.replace(',',' ')\n",
    "    \n",
    "    # tokenization\n",
    "    text_ = word_tokenize(text) # converts review to tokens\n",
    "    \n",
    "    # stop_words removal\n",
    "    text_ = [word for word in text_ if word not in stop_words] #removing stop words\n",
    "    \n",
    "    # lemmatization\n",
    "    text_lem = [lemmatizer.lemmatize(word) for word in text_]\n",
    "    \n",
    "    # check quantity of words of every class (A1, A2, B1, B2, C1)\n",
    "    a1_=a2_=b1_=b2_=c1_=others=0\n",
    "    others_words=[]\n",
    "\n",
    "    for word_ in text_lem:\n",
    "        if word_ in A1:\n",
    "            a1_ +=1\n",
    "        elif word_ in A2:\n",
    "            a2_ +=1\n",
    "        elif word_ in B1:\n",
    "            b1_ +=1\n",
    "        elif word_ in B2:\n",
    "            b2_ +=1\n",
    "        elif word_ in C1:\n",
    "            c1_ +=1\n",
    "        elif word_ not in [\".\",\"!\",\"'\",\",\",\"?\"]:\n",
    "            others +=1\n",
    "            others_words.append(word_)\n",
    "    \n",
    "    \n",
    "    # Stemization\n",
    "    text_stem = [stemmer.stem(word) for word in text_]\n",
    "    \n",
    "    # join words in preprocessed review\n",
    "    text_lem = ' '.join(text_lem)\n",
    "    text_stem = ' '.join(text_stem)\n",
    "    \n",
    "    return text, text_lem, text_stem, a1_, a2_, b1_, b2_, c1_, others, list(set(others_words))"
   ]
  },
  {
   "cell_type": "code",
   "execution_count": null,
   "id": "794e48e6",
   "metadata": {
    "ExecuteTime": {
     "end_time": "2023-04-08T09:45:19.765659Z",
     "start_time": "2023-04-08T09:45:19.733838Z"
    }
   },
   "outputs": [],
   "source": []
  },
  {
   "cell_type": "code",
   "execution_count": null,
   "id": "de694970",
   "metadata": {
    "ExecuteTime": {
     "end_time": "2023-04-08T09:45:23.944570Z",
     "start_time": "2023-04-08T09:45:23.933437Z"
    }
   },
   "outputs": [],
   "source": []
  },
  {
   "cell_type": "code",
   "execution_count": null,
   "id": "5244e209",
   "metadata": {
    "ExecuteTime": {
     "end_time": "2023-04-08T09:45:27.983903Z",
     "start_time": "2023-04-08T09:45:27.961903Z"
    }
   },
   "outputs": [],
   "source": []
  },
  {
   "cell_type": "markdown",
   "id": "b7200427",
   "metadata": {},
   "source": [
    "# Extract vocabulary from PDF\n",
    "\n",
    "Extract words for different levels of CEFT from PDF documents"
   ]
  },
  {
   "cell_type": "markdown",
   "id": "9e2b6fcb",
   "metadata": {
    "ExecuteTime": {
     "end_time": "2023-04-10T09:38:16.023428Z",
     "start_time": "2023-04-10T09:38:16.011575Z"
    }
   },
   "source": [
    "## Common functions for extract text from pdf"
   ]
  },
  {
   "cell_type": "code",
   "execution_count": 12,
   "id": "ec7d47bb",
   "metadata": {
    "ExecuteTime": {
     "end_time": "2023-04-11T11:06:36.337979Z",
     "start_time": "2023-04-11T11:06:36.323739Z"
    }
   },
   "outputs": [],
   "source": [
    "def extract_text_by_page(pdf_path):\n",
    "    with open(pdf_path, 'rb') as fh:\n",
    "        for page in PDFPage.get_pages(fh, \n",
    "                                      caching=True,\n",
    "                                      check_extractable=True):\n",
    "            resource_manager = PDFResourceManager()\n",
    "            fake_file_handle = io.StringIO()\n",
    "            converter = TextConverter(resource_manager, fake_file_handle)\n",
    "            page_interpreter = PDFPageInterpreter(resource_manager, converter)\n",
    "            page_interpreter.process_page(page)\n",
    " \n",
    "            text = fake_file_handle.getvalue()\n",
    "            yield text\n",
    " \n",
    "            # close open handles\n",
    "            converter.close()\n",
    "            fake_file_handle.close()\n",
    " \n"
   ]
  },
  {
   "cell_type": "code",
   "execution_count": 13,
   "id": "0f0c6951",
   "metadata": {
    "ExecuteTime": {
     "end_time": "2023-04-11T11:06:36.353372Z",
     "start_time": "2023-04-11T11:06:36.339019Z"
    }
   },
   "outputs": [],
   "source": [
    "def extract_text(pdf_path):\n",
    "    text = ''\n",
    "    for page in extract_text_by_page(pdf_path):\n",
    "        text += '   ' + page\n",
    "        #print(page)\n",
    "        #print()\n",
    "    return text"
   ]
  },
  {
   "cell_type": "code",
   "execution_count": 14,
   "id": "355e3335",
   "metadata": {
    "ExecuteTime": {
     "end_time": "2023-04-11T11:06:36.369273Z",
     "start_time": "2023-04-11T11:06:36.357206Z"
    }
   },
   "outputs": [],
   "source": [
    "replace_for_cefr_dict = {'level.': ' ', ' indefinite article': ' ', ' prep.': ' ', ' adv.': ' ', ' n.': ' ', 'adj.': ' ',\n",
    "                         ' v.': ' ', ' det.': ' ', '/pron.': ' ', '/adv.': ' ', ' pron.': ' ', '\\x0c': ' ', 'A1': ' $$ ',\n",
    "                         'A2': ' $$ ', 'B1': ' $$ ', 'B2': ' $$ ', 'C1': ' $$ ', 'C2': ' $$ ', ',': ' ', ' exclam.': ' ',\n",
    "                         '/number': ' ', ' number': ' ',\n",
    "                         ' conj.': ' ', '/det.': ' ', '/prep.': ' ', '/n.': ' ', ',': ' ', '/': ' '}"
   ]
  },
  {
   "cell_type": "markdown",
   "id": "c06b1282",
   "metadata": {},
   "source": [
    "## Low levels in British English"
   ]
  },
  {
   "cell_type": "code",
   "execution_count": 15,
   "id": "62840dcf",
   "metadata": {
    "ExecuteTime": {
     "end_time": "2023-04-11T11:06:38.524029Z",
     "start_time": "2023-04-11T11:06:36.372194Z"
    }
   },
   "outputs": [],
   "source": [
    "text = extract_text(\".\\Oxford_CEFR_level\\The_Oxford_3000_by_CEFR_level.pdf\")"
   ]
  },
  {
   "cell_type": "code",
   "execution_count": 16,
   "id": "f77d2077",
   "metadata": {
    "ExecuteTime": {
     "end_time": "2023-04-11T11:06:38.540043Z",
     "start_time": "2023-04-11T11:06:38.524968Z"
    }
   },
   "outputs": [],
   "source": [
    "text_1 = text.replace(\"© Oxford University Press\", \" \")\n",
    "text_1 = text_1.replace('12The Oxford 3000™ by CEFR level', ' ')\n",
    "text_1 = text_1.replace(\n",
    "    'The Oxford 3000 is the list of the 3000 most important words to learn in English, from A1 to B2', ' ')"
   ]
  },
  {
   "cell_type": "code",
   "execution_count": 17,
   "id": "026a1c48",
   "metadata": {
    "ExecuteTime": {
     "end_time": "2023-04-11T11:06:38.555291Z",
     "start_time": "2023-04-11T11:06:38.542181Z"
    }
   },
   "outputs": [],
   "source": [
    "for original, replacement in replace_for_cefr_dict.items():\n",
    "    text_1 = text_1.replace(original, replacement)"
   ]
  },
  {
   "cell_type": "code",
   "execution_count": 18,
   "id": "eee4f31c",
   "metadata": {
    "ExecuteTime": {
     "end_time": "2023-04-11T11:06:38.571244Z",
     "start_time": "2023-04-11T11:06:38.557543Z"
    }
   },
   "outputs": [],
   "source": [
    "text_1 = re.sub(NUMBERS,' ', text_1)\n",
    "text_1 = text_1.replace(' 0 ', ' ')\n",
    "text_1 = re.sub(SPACES,' ', text_1)\n",
    "text_1 = re.sub(COMMENTS,' ', text_1)\n",
    "text_1 = text_1.split('$$')"
   ]
  },
  {
   "cell_type": "code",
   "execution_count": 19,
   "id": "e81a4098",
   "metadata": {
    "ExecuteTime": {
     "end_time": "2023-04-11T11:06:38.586686Z",
     "start_time": "2023-04-11T11:06:38.573062Z"
    }
   },
   "outputs": [
    {
     "data": {
      "text/plain": [
       "912"
      ]
     },
     "execution_count": 19,
     "metadata": {},
     "output_type": "execute_result"
    }
   ],
   "source": [
    "A1 = change_in_list(text_1[1].split(' '), '\\xa0',' ')\n",
    "len(A1)"
   ]
  },
  {
   "cell_type": "code",
   "execution_count": 20,
   "id": "cd4b032b",
   "metadata": {
    "ExecuteTime": {
     "end_time": "2023-04-11T11:06:38.602479Z",
     "start_time": "2023-04-11T11:06:38.588189Z"
    }
   },
   "outputs": [
    {
     "data": {
      "text/plain": [
       "876"
      ]
     },
     "execution_count": 20,
     "metadata": {},
     "output_type": "execute_result"
    }
   ],
   "source": [
    "A2 = change_in_list(text_1[2].split(' '), '\\xa0',' ')\n",
    "len(A2)"
   ]
  },
  {
   "cell_type": "code",
   "execution_count": 21,
   "id": "3b4ac7c3",
   "metadata": {
    "ExecuteTime": {
     "end_time": "2023-04-11T11:06:38.618500Z",
     "start_time": "2023-04-11T11:06:38.605053Z"
    }
   },
   "outputs": [
    {
     "data": {
      "text/plain": [
       "811"
      ]
     },
     "execution_count": 21,
     "metadata": {},
     "output_type": "execute_result"
    }
   ],
   "source": [
    "B1 =  change_in_list(text_1[3].split(' '), '\\xa0',' ')\n",
    "len(B1)"
   ]
  },
  {
   "cell_type": "code",
   "execution_count": 22,
   "id": "a7ae9657",
   "metadata": {
    "ExecuteTime": {
     "end_time": "2023-04-11T11:06:38.633681Z",
     "start_time": "2023-04-11T11:06:38.620803Z"
    }
   },
   "outputs": [
    {
     "data": {
      "text/plain": [
       "727"
      ]
     },
     "execution_count": 22,
     "metadata": {},
     "output_type": "execute_result"
    }
   ],
   "source": [
    "B2 =  change_in_list(text_1[4].split(' '), '\\xa0',' ')\n",
    "len(B2)"
   ]
  },
  {
   "cell_type": "markdown",
   "id": "a25f3305",
   "metadata": {},
   "source": [
    "## High levels in British English"
   ]
  },
  {
   "cell_type": "code",
   "execution_count": 23,
   "id": "cdd33cdb",
   "metadata": {
    "ExecuteTime": {
     "end_time": "2023-04-11T11:06:40.010065Z",
     "start_time": "2023-04-11T11:06:38.636946Z"
    }
   },
   "outputs": [],
   "source": [
    "text = extract_text(\".\\Oxford_CEFR_level\\The_Oxford_5000_by_CEFR_level.pdf\")"
   ]
  },
  {
   "cell_type": "code",
   "execution_count": 24,
   "id": "d8deef2c",
   "metadata": {
    "ExecuteTime": {
     "end_time": "2023-04-11T11:06:40.025593Z",
     "start_time": "2023-04-11T11:06:40.010727Z"
    }
   },
   "outputs": [],
   "source": [
    "text_1 = text.replace(\"© Oxford University Press\", \" \")\n",
    "text_1 = text_1.replace('The Oxford 5000™ by CEFR level', ' ')\n",
    "text_1 = text_1.replace(\n",
    "    'The Oxford 5000 is an expanded core word list for advanced learners of English. As well as the Oxford 3000, it includes an additional 2000 words for learners at B2-C1 level, which are listed here.', ' ')"
   ]
  },
  {
   "cell_type": "code",
   "execution_count": 25,
   "id": "a2b932fd",
   "metadata": {
    "ExecuteTime": {
     "end_time": "2023-04-11T11:06:40.041236Z",
     "start_time": "2023-04-11T11:06:40.027857Z"
    }
   },
   "outputs": [],
   "source": [
    "for original, replacement in replace_for_cefr_dict.items():\n",
    "    text_1 = text_1.replace(original, replacement)"
   ]
  },
  {
   "cell_type": "code",
   "execution_count": 26,
   "id": "b592845b",
   "metadata": {
    "ExecuteTime": {
     "end_time": "2023-04-11T11:06:40.056983Z",
     "start_time": "2023-04-11T11:06:40.043679Z"
    }
   },
   "outputs": [],
   "source": [
    "#text_1"
   ]
  },
  {
   "cell_type": "code",
   "execution_count": 27,
   "id": "9b929e20",
   "metadata": {
    "ExecuteTime": {
     "end_time": "2023-04-11T11:06:40.073116Z",
     "start_time": "2023-04-11T11:06:40.059377Z"
    }
   },
   "outputs": [],
   "source": [
    "text_1 = re.sub(NUMBERS,' ', text_1)\n",
    "text_1 = text_1.replace(' 0 ', ' ')\n",
    "text_1 = re.sub(SPACES,' ', text_1)\n",
    "text_1 = re.sub(COMMENTS,' ', text_1)"
   ]
  },
  {
   "cell_type": "code",
   "execution_count": 28,
   "id": "07e9a676",
   "metadata": {
    "ExecuteTime": {
     "end_time": "2023-04-11T11:06:40.088109Z",
     "start_time": "2023-04-11T11:06:40.075203Z"
    }
   },
   "outputs": [],
   "source": [
    "text_1 = text_1.split('$$')"
   ]
  },
  {
   "cell_type": "code",
   "execution_count": 29,
   "id": "c97f6491",
   "metadata": {
    "ExecuteTime": {
     "end_time": "2023-04-11T11:06:40.103075Z",
     "start_time": "2023-04-11T11:06:40.090330Z"
    }
   },
   "outputs": [
    {
     "data": {
      "text/plain": [
       "1427"
      ]
     },
     "execution_count": 29,
     "metadata": {},
     "output_type": "execute_result"
    }
   ],
   "source": [
    "B2 +=  change_in_list(text_1[1].split(' '), '\\xa0',' ')\n",
    "B2.sort()\n",
    "len(B2)"
   ]
  },
  {
   "cell_type": "code",
   "execution_count": 30,
   "id": "0f1d59b8",
   "metadata": {
    "ExecuteTime": {
     "end_time": "2023-04-11T11:06:40.118175Z",
     "start_time": "2023-04-11T11:06:40.104902Z"
    }
   },
   "outputs": [
    {
     "data": {
      "text/plain": [
       "1315"
      ]
     },
     "execution_count": 30,
     "metadata": {},
     "output_type": "execute_result"
    }
   ],
   "source": [
    "C1 =  change_in_list(text_1[2].split(' '), '\\xa0',' ')\n",
    "len(C1)"
   ]
  },
  {
   "cell_type": "markdown",
   "id": "5725c949",
   "metadata": {
    "ExecuteTime": {
     "end_time": "2023-04-07T17:59:45.686949Z",
     "start_time": "2023-04-07T17:59:45.681281Z"
    }
   },
   "source": [
    "## Low levels in American English"
   ]
  },
  {
   "cell_type": "code",
   "execution_count": 31,
   "id": "c3eea024",
   "metadata": {
    "ExecuteTime": {
     "end_time": "2023-04-11T11:06:42.273061Z",
     "start_time": "2023-04-11T11:06:40.119318Z"
    }
   },
   "outputs": [],
   "source": [
    "text = extract_text(\".\\Oxford_CEFR_level\\American_Oxford_3000_by_CEFR_level.pdf\")"
   ]
  },
  {
   "cell_type": "code",
   "execution_count": 32,
   "id": "e4d68c2a",
   "metadata": {
    "ExecuteTime": {
     "end_time": "2023-04-11T11:06:42.287829Z",
     "start_time": "2023-04-11T11:06:42.276655Z"
    }
   },
   "outputs": [],
   "source": [
    "#text_1"
   ]
  },
  {
   "cell_type": "code",
   "execution_count": 33,
   "id": "4ae54d26",
   "metadata": {
    "ExecuteTime": {
     "end_time": "2023-04-11T11:06:42.303605Z",
     "start_time": "2023-04-11T11:06:42.292657Z"
    }
   },
   "outputs": [],
   "source": [
    "text_1 = text.replace(\"© Oxford University Press\", \" \")\n",
    "text_1 = text_1.replace(\"The Oxford 3000™ by CEFR level  (American English)\", ' ')\n",
    "text_1 = text_1.replace(\n",
    "    'The Oxford 3000 is the list of the 3000 most important words to learn in English, from A1 to B2 level.', ' ')"
   ]
  },
  {
   "cell_type": "code",
   "execution_count": 34,
   "id": "2b800170",
   "metadata": {
    "ExecuteTime": {
     "end_time": "2023-04-11T11:06:42.319153Z",
     "start_time": "2023-04-11T11:06:42.306181Z"
    }
   },
   "outputs": [],
   "source": [
    "for original, replacement in replace_for_cefr_dict.items():\n",
    "    text_1 = text_1.replace(original, replacement)"
   ]
  },
  {
   "cell_type": "code",
   "execution_count": 35,
   "id": "9a0a63ee",
   "metadata": {
    "ExecuteTime": {
     "end_time": "2023-04-11T11:06:42.350737Z",
     "start_time": "2023-04-11T11:06:42.323160Z"
    }
   },
   "outputs": [],
   "source": [
    "text_1 = re.sub(NUMBERS,' ', text_1)\n",
    "text_1 = text_1.replace(' 0 ', ' ')\n",
    "text_1 = re.sub(SPACES,' ', text_1)\n",
    "text_1 = re.sub(COMMENTS,' ', text_1)\n",
    "text_1 = text_1.split('$$')"
   ]
  },
  {
   "cell_type": "code",
   "execution_count": 36,
   "id": "0fc673c5",
   "metadata": {
    "ExecuteTime": {
     "end_time": "2023-04-11T11:06:42.381418Z",
     "start_time": "2023-04-11T11:06:42.354828Z"
    }
   },
   "outputs": [
    {
     "data": {
      "text/plain": [
       "929"
      ]
     },
     "execution_count": 36,
     "metadata": {},
     "output_type": "execute_result"
    }
   ],
   "source": [
    "A1 += change_in_list(text_1[1].split(' '), '\\xa0',' ')\n",
    "A1.sort()\n",
    "A1 = list(set(A1))\n",
    "len(A1)"
   ]
  },
  {
   "cell_type": "code",
   "execution_count": 37,
   "id": "95a27d18",
   "metadata": {
    "ExecuteTime": {
     "end_time": "2023-04-11T11:06:42.397164Z",
     "start_time": "2023-04-11T11:06:42.384447Z"
    }
   },
   "outputs": [
    {
     "data": {
      "text/plain": [
       "915"
      ]
     },
     "execution_count": 37,
     "metadata": {},
     "output_type": "execute_result"
    }
   ],
   "source": [
    "A2 += change_in_list(text_1[2].split(' '), '\\xa0',' ')\n",
    "A2.sort()\n",
    "A2 = list(set(A2))\n",
    "len(A2)"
   ]
  },
  {
   "cell_type": "code",
   "execution_count": 38,
   "id": "5ed6fdd0",
   "metadata": {
    "ExecuteTime": {
     "end_time": "2023-04-11T11:06:42.427571Z",
     "start_time": "2023-04-11T11:06:42.401996Z"
    }
   },
   "outputs": [
    {
     "data": {
      "text/plain": [
       "835"
      ]
     },
     "execution_count": 38,
     "metadata": {},
     "output_type": "execute_result"
    }
   ],
   "source": [
    "B1 += change_in_list(text_1[3].split(' '), '\\xa0',' ')\n",
    "B1.sort()\n",
    "B1 = list(set(B1))\n",
    "len(B1)"
   ]
  },
  {
   "cell_type": "code",
   "execution_count": 39,
   "id": "a9681d61",
   "metadata": {
    "ExecuteTime": {
     "end_time": "2023-04-11T11:06:42.458796Z",
     "start_time": "2023-04-11T11:06:42.430568Z"
    }
   },
   "outputs": [
    {
     "data": {
      "text/plain": [
       "1456"
      ]
     },
     "execution_count": 39,
     "metadata": {},
     "output_type": "execute_result"
    }
   ],
   "source": [
    "B2 += change_in_list(text_1[4].split(' '), '\\xa0',' ')\n",
    "B2.sort()\n",
    "B2 = list(set(B2))\n",
    "len(B2)"
   ]
  },
  {
   "cell_type": "markdown",
   "id": "c98c99fb",
   "metadata": {},
   "source": [
    "## High levels in American English"
   ]
  },
  {
   "cell_type": "code",
   "execution_count": 40,
   "id": "82b270d8",
   "metadata": {
    "ExecuteTime": {
     "end_time": "2023-04-11T11:06:43.789168Z",
     "start_time": "2023-04-11T11:06:42.462497Z"
    }
   },
   "outputs": [],
   "source": [
    "text = extract_text(\".\\Oxford_CEFR_level\\American_Oxford_5000_by_CEFR_level.pdf\")"
   ]
  },
  {
   "cell_type": "code",
   "execution_count": 41,
   "id": "02481485",
   "metadata": {
    "ExecuteTime": {
     "end_time": "2023-04-11T11:06:43.804995Z",
     "start_time": "2023-04-11T11:06:43.796884Z"
    }
   },
   "outputs": [],
   "source": [
    "text_1 = text.replace(\"© Oxford University Press\", \" \")\n",
    "text_1 = text_1.replace('The Oxford 5000™ by CEFR level (American English)', ' ')\n",
    "text_1 = text_1.replace(\n",
    "    'The Oxford 5000 is an expanded core word list for advanced learners of English. As well as the Oxford 3000, it includes an additional 2000 words for learners at B2-C1 level, which are listed here.', ' ')"
   ]
  },
  {
   "cell_type": "code",
   "execution_count": 42,
   "id": "447462ad",
   "metadata": {
    "ExecuteTime": {
     "end_time": "2023-04-11T11:06:43.820148Z",
     "start_time": "2023-04-11T11:06:43.808414Z"
    }
   },
   "outputs": [],
   "source": [
    "for original, replacement in replace_for_cefr_dict.items():\n",
    "    text_1 = text_1.replace(original, replacement)"
   ]
  },
  {
   "cell_type": "code",
   "execution_count": 43,
   "id": "95ab4f65",
   "metadata": {
    "ExecuteTime": {
     "end_time": "2023-04-11T11:06:43.835504Z",
     "start_time": "2023-04-11T11:06:43.822845Z"
    }
   },
   "outputs": [],
   "source": [
    "text_1 = re.sub(NUMBERS,' ', text_1)\n",
    "text_1 = text_1.replace(' 0 ', ' ')\n",
    "text_1 = re.sub(SPACES,' ', text_1)\n",
    "text_1 = re.sub(COMMENTS,' ', text_1)"
   ]
  },
  {
   "cell_type": "code",
   "execution_count": 44,
   "id": "3cb95fda",
   "metadata": {
    "ExecuteTime": {
     "end_time": "2023-04-11T11:06:43.851144Z",
     "start_time": "2023-04-11T11:06:43.837202Z"
    }
   },
   "outputs": [],
   "source": [
    "text_1 = text_1.split('$$')"
   ]
  },
  {
   "cell_type": "code",
   "execution_count": 45,
   "id": "02b91a04",
   "metadata": {
    "ExecuteTime": {
     "end_time": "2023-04-11T11:06:43.866468Z",
     "start_time": "2023-04-11T11:06:43.852206Z"
    }
   },
   "outputs": [
    {
     "data": {
      "text/plain": [
       "1463"
      ]
     },
     "execution_count": 45,
     "metadata": {},
     "output_type": "execute_result"
    }
   ],
   "source": [
    "B2 +=  change_in_list(text_1[1].split(' '), '\\xa0',' ')\n",
    "B2.sort()\n",
    "B2 = list(set(B2))\n",
    "len(B2)"
   ]
  },
  {
   "cell_type": "code",
   "execution_count": 46,
   "id": "d3e0a2ea",
   "metadata": {
    "ExecuteTime": {
     "end_time": "2023-04-11T11:06:43.882281Z",
     "start_time": "2023-04-11T11:06:43.868601Z"
    }
   },
   "outputs": [
    {
     "data": {
      "text/plain": [
       "1388"
      ]
     },
     "execution_count": 46,
     "metadata": {},
     "output_type": "execute_result"
    }
   ],
   "source": [
    "C1 += change_in_list(text_1[2].split(' '), '\\xa0',' ')\n",
    "C1.sort()\n",
    "C1 = list(set(C1))\n",
    "len(C1)"
   ]
  },
  {
   "cell_type": "code",
   "execution_count": null,
   "id": "15ad3ffb",
   "metadata": {},
   "outputs": [],
   "source": []
  },
  {
   "cell_type": "code",
   "execution_count": null,
   "id": "f95d26bb",
   "metadata": {
    "ExecuteTime": {
     "end_time": "2023-04-07T17:56:26.158590Z",
     "start_time": "2023-04-07T17:56:26.154042Z"
    }
   },
   "outputs": [],
   "source": []
  },
  {
   "cell_type": "code",
   "execution_count": null,
   "id": "cbe114e8",
   "metadata": {
    "ExecuteTime": {
     "end_time": "2023-04-07T17:28:47.176268Z",
     "start_time": "2023-04-07T17:28:47.158571Z"
    }
   },
   "outputs": [],
   "source": []
  },
  {
   "cell_type": "markdown",
   "id": "66a56955",
   "metadata": {},
   "source": [
    "# Subtitles - tests\n"
   ]
  },
  {
   "cell_type": "code",
   "execution_count": 47,
   "id": "c350ab20",
   "metadata": {
    "ExecuteTime": {
     "end_time": "2023-04-11T11:06:43.944951Z",
     "start_time": "2023-04-11T11:06:43.884426Z"
    }
   },
   "outputs": [],
   "source": [
    "subs_1 = pysrt.open('.\\English_scores\\Subtitles_all\\Subtitles\\Suits.S04E14.PROPER.HDTV.x264-KILLERS.srt', encoding='latin-1')"
   ]
  },
  {
   "cell_type": "code",
   "execution_count": 48,
   "id": "b70ee95f",
   "metadata": {
    "ExecuteTime": {
     "end_time": "2023-04-11T11:06:43.960193Z",
     "start_time": "2023-04-11T11:06:43.946832Z"
    }
   },
   "outputs": [],
   "source": [
    "b1_subt_1 = clean_subs(subs_1.text)"
   ]
  },
  {
   "cell_type": "code",
   "execution_count": 49,
   "id": "2efdd1ec",
   "metadata": {
    "ExecuteTime": {
     "end_time": "2023-04-11T11:06:44.118005Z",
     "start_time": "2023-04-11T11:06:43.962197Z"
    }
   },
   "outputs": [
    {
     "data": {
      "text/plain": [
       "['you',\n",
       " 'never',\n",
       " 'let',\n",
       " 'me',\n",
       " 'tell',\n",
       " 'you',\n",
       " 'what',\n",
       " 'the',\n",
       " 'money',\n",
       " 'was',\n",
       " 'for',\n",
       " '.',\n",
       " 'you',\n",
       " 'did',\n",
       " \"n't\",\n",
       " 'listen',\n",
       " 'to',\n",
       " 'me',\n",
       " 'when',\n",
       " 'i',\n",
       " 'told',\n",
       " 'you',\n",
       " 'i',\n",
       " 'do',\n",
       " \"n't\",\n",
       " 'care',\n",
       " '.',\n",
       " 'well',\n",
       " ',',\n",
       " 'do',\n",
       " 'you',\n",
       " 'care',\n",
       " 'that',\n",
       " 'after',\n",
       " 'mike',\n",
       " 'grilled',\n",
       " 'me',\n",
       " ',',\n",
       " 'i',\n",
       " 'was',\n",
       " 'so',\n",
       " 'impressed',\n",
       " 'with',\n",
       " 'him',\n",
       " 'that',\n",
       " 'i',\n",
       " 'wonder',\n",
       " 'why',\n",
       " 'i',\n",
       " \"'d\",\n",
       " 'forgotten',\n",
       " 'him',\n",
       " '?',\n",
       " 'but',\n",
       " 'i',\n",
       " 'could',\n",
       " \"n't\",\n",
       " 'find',\n",
       " 'any',\n",
       " 'record',\n",
       " 'of',\n",
       " 'him',\n",
       " 'ever',\n",
       " 'being',\n",
       " 'in',\n",
       " 'my',\n",
       " 'class',\n",
       " '.',\n",
       " 'just',\n",
       " 'like',\n",
       " 'they',\n",
       " \"'re\",\n",
       " 'not',\n",
       " 'gon',\n",
       " 'na',\n",
       " 'find',\n",
       " 'any',\n",
       " 'record',\n",
       " 'of',\n",
       " 'you',\n",
       " 'accepting',\n",
       " 'a',\n",
       " 'bribe',\n",
       " 'from',\n",
       " 'a',\n",
       " 'student',\n",
       " '.',\n",
       " 'jessica',\n",
       " ',',\n",
       " 'your',\n",
       " 'secret',\n",
       " 'is',\n",
       " 'safe',\n",
       " 'with',\n",
       " 'me',\n",
       " '.',\n",
       " 'i',\n",
       " 'told',\n",
       " 'him',\n",
       " 'you',\n",
       " 'found',\n",
       " 'out',\n",
       " 'that',\n",
       " 'i',\n",
       " 'covered',\n",
       " 'up',\n",
       " 'daniel',\n",
       " 'hardman',\n",
       " \"'s\",\n",
       " 'embezzlement',\n",
       " '.',\n",
       " 'and',\n",
       " 'now',\n",
       " 'you',\n",
       " 'want',\n",
       " 'me',\n",
       " 'to',\n",
       " 'protect',\n",
       " 'another',\n",
       " 'one',\n",
       " 'of',\n",
       " 'your',\n",
       " 'secrets',\n",
       " '.',\n",
       " 'it',\n",
       " \"'s\",\n",
       " 'the',\n",
       " 'same',\n",
       " 'secret',\n",
       " ',',\n",
       " 'louis',\n",
       " ',',\n",
       " 'and',\n",
       " 'you',\n",
       " 'have',\n",
       " 'just',\n",
       " 'as',\n",
       " 'much',\n",
       " 'invested',\n",
       " 'in',\n",
       " 'it',\n",
       " 'as',\n",
       " 'i',\n",
       " 'do',\n",
       " '.',\n",
       " 'you',\n",
       " 'want',\n",
       " 'me',\n",
       " 'to',\n",
       " 'kiss',\n",
       " 'the',\n",
       " 'ring',\n",
       " ',',\n",
       " 'louis',\n",
       " ',',\n",
       " 'after',\n",
       " 'what',\n",
       " 'you',\n",
       " 'did',\n",
       " '?',\n",
       " 'you',\n",
       " \"'re\",\n",
       " 'damn',\n",
       " 'right',\n",
       " 'i',\n",
       " 'do',\n",
       " ',',\n",
       " 'because',\n",
       " 'i',\n",
       " 'do',\n",
       " \"n't\",\n",
       " 'care',\n",
       " 'how',\n",
       " 'it',\n",
       " 'got',\n",
       " 'up',\n",
       " 'there',\n",
       " '.',\n",
       " 'my',\n",
       " 'name',\n",
       " 'is',\n",
       " 'on',\n",
       " 'that',\n",
       " 'wall',\n",
       " 'whether',\n",
       " 'you',\n",
       " 'like',\n",
       " 'it',\n",
       " 'or',\n",
       " 'not',\n",
       " '.',\n",
       " 'hey',\n",
       " '.',\n",
       " 'hey',\n",
       " '.',\n",
       " 'what',\n",
       " 'do',\n",
       " 'you',\n",
       " 'think',\n",
       " 'of',\n",
       " 'this',\n",
       " 'tie',\n",
       " '?',\n",
       " 'i',\n",
       " 'think',\n",
       " '.',\n",
       " 'i',\n",
       " 'want',\n",
       " 'to',\n",
       " 'tie',\n",
       " 'you',\n",
       " 'up',\n",
       " 'with',\n",
       " 'it',\n",
       " '.',\n",
       " 'really',\n",
       " '?',\n",
       " 'and',\n",
       " 'what',\n",
       " 'brought',\n",
       " 'that',\n",
       " 'on',\n",
       " '?',\n",
       " 'okay',\n",
       " ',',\n",
       " 'well',\n",
       " ',',\n",
       " 'then',\n",
       " 'let',\n",
       " \"'s\",\n",
       " 'make',\n",
       " 'that',\n",
       " 'happen',\n",
       " '.',\n",
       " 'wait',\n",
       " '.',\n",
       " 'is',\n",
       " 'this',\n",
       " 'to',\n",
       " 'do',\n",
       " 'things',\n",
       " 'to',\n",
       " 'me',\n",
       " 'or',\n",
       " 'just',\n",
       " 'to',\n",
       " 'get',\n",
       " 'control',\n",
       " 'of',\n",
       " 'the',\n",
       " 'remote',\n",
       " '?',\n",
       " 'why',\n",
       " 'ca',\n",
       " \"n't\",\n",
       " 'it',\n",
       " 'be',\n",
       " 'both',\n",
       " '?',\n",
       " 'rachel',\n",
       " ',',\n",
       " 'if',\n",
       " 'you',\n",
       " 'think',\n",
       " 'i',\n",
       " \"'m\",\n",
       " 'gon',\n",
       " 'na',\n",
       " 'let',\n",
       " 'you',\n",
       " 'watch',\n",
       " 'game',\n",
       " 'of',\n",
       " 'thrones',\n",
       " 'while',\n",
       " 'sexually',\n",
       " 'dominating',\n",
       " 'me',\n",
       " ',',\n",
       " 'then',\n",
       " 'you',\n",
       " 'are',\n",
       " 'absolutely',\n",
       " 'right',\n",
       " '.',\n",
       " 'seriously',\n",
       " ',',\n",
       " 'what',\n",
       " \"'s\",\n",
       " 'got',\n",
       " 'you',\n",
       " 'feeling',\n",
       " 'so',\n",
       " 'good',\n",
       " '?',\n",
       " 'oh',\n",
       " ',',\n",
       " 'it',\n",
       " 'just',\n",
       " 'feels',\n",
       " 'like',\n",
       " 'such',\n",
       " 'a',\n",
       " 'weight',\n",
       " 'off',\n",
       " 'now',\n",
       " 'that',\n",
       " 'louis',\n",
       " 'does',\n",
       " \"n't\",\n",
       " 'despise',\n",
       " 'me',\n",
       " '?',\n",
       " 'mm',\n",
       " 'hmm',\n",
       " '.',\n",
       " 'ah',\n",
       " ',',\n",
       " 'you',\n",
       " 'know',\n",
       " 'what',\n",
       " 'else',\n",
       " 'would',\n",
       " 'feel',\n",
       " 'like',\n",
       " 'a',\n",
       " 'weight',\n",
       " 'off',\n",
       " '?',\n",
       " 'oh',\n",
       " 'no',\n",
       " '.',\n",
       " 'no',\n",
       " ',',\n",
       " 'no',\n",
       " ',',\n",
       " 'no',\n",
       " '.',\n",
       " 'nobody',\n",
       " 'ever',\n",
       " 'calls',\n",
       " 'the',\n",
       " 'landline',\n",
       " 'except',\n",
       " 'my',\n",
       " 'parents',\n",
       " '.',\n",
       " 'what',\n",
       " 'if',\n",
       " 'something',\n",
       " \"'s\",\n",
       " 'wrong',\n",
       " '?',\n",
       " 'it',\n",
       " \"'s\",\n",
       " 'fine',\n",
       " '.',\n",
       " 'mike',\n",
       " '.',\n",
       " 'okay',\n",
       " ',',\n",
       " 'okay',\n",
       " ',',\n",
       " 'okay',\n",
       " '.',\n",
       " 'hello',\n",
       " '.',\n",
       " 'yeah',\n",
       " ',',\n",
       " 'this',\n",
       " 'is',\n",
       " 'him',\n",
       " '.',\n",
       " 'yeah',\n",
       " ',',\n",
       " 'of',\n",
       " 'course',\n",
       " 'i',\n",
       " 'can',\n",
       " 'come',\n",
       " 'meet',\n",
       " 'you',\n",
       " '.',\n",
       " 'can',\n",
       " 'i',\n",
       " 'ask',\n",
       " 'what',\n",
       " 'this',\n",
       " 'is',\n",
       " 'hello',\n",
       " '?',\n",
       " 'who',\n",
       " 'was',\n",
       " 'it',\n",
       " '?',\n",
       " 'professor',\n",
       " 'gerard',\n",
       " '.',\n",
       " 'he',\n",
       " 'wants',\n",
       " 'me',\n",
       " 'to',\n",
       " 'go',\n",
       " 'meet',\n",
       " 'him',\n",
       " '.',\n",
       " 'did',\n",
       " 'he',\n",
       " 'say',\n",
       " 'what',\n",
       " 'it',\n",
       " 'was',\n",
       " 'about',\n",
       " '?',\n",
       " 'no',\n",
       " ',',\n",
       " 'he',\n",
       " 'hung',\n",
       " 'up',\n",
       " '.',\n",
       " 'when',\n",
       " 'does',\n",
       " 'he',\n",
       " 'want',\n",
       " 'you',\n",
       " 'to',\n",
       " 'meet',\n",
       " 'him',\n",
       " '?',\n",
       " 'right',\n",
       " 'now',\n",
       " '.',\n",
       " 'professor',\n",
       " 'gerard',\n",
       " '.',\n",
       " 'thanks',\n",
       " 'for',\n",
       " 'coming',\n",
       " '.',\n",
       " 'i',\n",
       " 'would',\n",
       " \"n't\",\n",
       " 'have',\n",
       " 'bothered',\n",
       " 'you',\n",
       " 'if',\n",
       " 'it',\n",
       " 'was',\n",
       " \"n't\",\n",
       " 'important',\n",
       " '.',\n",
       " 'it',\n",
       " \"'s\",\n",
       " 'not',\n",
       " 'a',\n",
       " 'problem',\n",
       " '.',\n",
       " 'what',\n",
       " 'can',\n",
       " 'i',\n",
       " 'help',\n",
       " 'you',\n",
       " 'with',\n",
       " '?',\n",
       " 'it',\n",
       " \"'s\",\n",
       " 'not',\n",
       " 'me',\n",
       " '.',\n",
       " 'a',\n",
       " 'former',\n",
       " 'employee',\n",
       " 'at',\n",
       " 'liberty',\n",
       " 'rail',\n",
       " 'reached',\n",
       " 'out',\n",
       " 'to',\n",
       " 'me',\n",
       " '.',\n",
       " 'he',\n",
       " 'claims',\n",
       " 'he',\n",
       " 'was',\n",
       " 'fired',\n",
       " 'because',\n",
       " 'he',\n",
       " 'knows',\n",
       " 'the',\n",
       " 'real',\n",
       " 'reason',\n",
       " 'for',\n",
       " 'the',\n",
       " 'crash',\n",
       " '.',\n",
       " 'and',\n",
       " 'what',\n",
       " 'was',\n",
       " 'the',\n",
       " 'real',\n",
       " 'reason',\n",
       " '?',\n",
       " 'he',\n",
       " 'would',\n",
       " \"n't\",\n",
       " 'tell',\n",
       " 'me',\n",
       " '.',\n",
       " 'well',\n",
       " ',',\n",
       " 'what',\n",
       " 'did',\n",
       " 'he',\n",
       " 'tell',\n",
       " 'you',\n",
       " '?',\n",
       " 'enough',\n",
       " 'for',\n",
       " 'me',\n",
       " 'to',\n",
       " 'know',\n",
       " 'it',\n",
       " 'would',\n",
       " 'be',\n",
       " 'unethical',\n",
       " 'if',\n",
       " 'somebody',\n",
       " 'did',\n",
       " \"n't\",\n",
       " 'look',\n",
       " 'into',\n",
       " 'this',\n",
       " '.',\n",
       " 'but',\n",
       " 'you',\n",
       " 'ca',\n",
       " \"n't\",\n",
       " ',',\n",
       " 'so',\n",
       " 'you',\n",
       " 'want',\n",
       " 'me',\n",
       " 'to',\n",
       " 'get',\n",
       " 'harvey',\n",
       " 'to',\n",
       " '.',\n",
       " 'well',\n",
       " ',',\n",
       " 'you',\n",
       " 'convinced',\n",
       " 'him',\n",
       " 'to',\n",
       " 'look',\n",
       " 'into',\n",
       " 'my',\n",
       " 'case',\n",
       " 'when',\n",
       " 'he',\n",
       " 'did',\n",
       " \"n't\",\n",
       " 'want',\n",
       " 'to',\n",
       " ',',\n",
       " 'did',\n",
       " \"n't\",\n",
       " 'you',\n",
       " '?',\n",
       " 'this',\n",
       " 'is',\n",
       " 'different',\n",
       " '.',\n",
       " 'we',\n",
       " 'do',\n",
       " \"n't\",\n",
       " 'take',\n",
       " 'cases',\n",
       " 'like',\n",
       " 'this',\n",
       " '.',\n",
       " 'maybe',\n",
       " ',',\n",
       " 'but',\n",
       " 'i',\n",
       " 'believe',\n",
       " 'a',\n",
       " 'man',\n",
       " 'who',\n",
       " 'can',\n",
       " 'convince',\n",
       " 'harvey',\n",
       " 'to',\n",
       " 'hire',\n",
       " 'someone',\n",
       " 'who',\n",
       " 'never',\n",
       " 'went',\n",
       " 'to',\n",
       " 'law',\n",
       " 'school',\n",
       " 'could',\n",
       " 'convince',\n",
       " 'him',\n",
       " 'to',\n",
       " 'make',\n",
       " 'an',\n",
       " 'exception',\n",
       " 'for',\n",
       " 'this',\n",
       " '.',\n",
       " 'what',\n",
       " '?',\n",
       " 'he',\n",
       " 'did',\n",
       " \"n't\",\n",
       " 'tell',\n",
       " 'you',\n",
       " 'i',\n",
       " 'know',\n",
       " '.',\n",
       " 'no',\n",
       " ',',\n",
       " 'he',\n",
       " 'did',\n",
       " \"n't\",\n",
       " '.',\n",
       " 'well',\n",
       " ',',\n",
       " 'i',\n",
       " 'do',\n",
       " '.',\n",
       " 'but',\n",
       " 'what',\n",
       " 'i',\n",
       " \"'m\",\n",
       " 'asking',\n",
       " 'you',\n",
       " 'to',\n",
       " 'do',\n",
       " 'and',\n",
       " 'me',\n",
       " 'knowing',\n",
       " 'have',\n",
       " 'nothing',\n",
       " 'to',\n",
       " 'do',\n",
       " 'with',\n",
       " 'each',\n",
       " 'other',\n",
       " '.',\n",
       " 'i',\n",
       " 'appreciate',\n",
       " 'that',\n",
       " '.',\n",
       " 'does',\n",
       " 'that',\n",
       " 'mean',\n",
       " 'that',\n",
       " 'you',\n",
       " \"'re\",\n",
       " 'gon',\n",
       " 'na',\n",
       " 'tell',\n",
       " 'him',\n",
       " 'to',\n",
       " 'take',\n",
       " 'the',\n",
       " 'case',\n",
       " '?',\n",
       " 'i',\n",
       " 'have',\n",
       " 'a',\n",
       " 'better',\n",
       " 'idea',\n",
       " '.',\n",
       " 'got',\n",
       " 'a',\n",
       " 'second',\n",
       " '?',\n",
       " 'of',\n",
       " 'course',\n",
       " '.',\n",
       " 'what',\n",
       " 'do',\n",
       " 'you',\n",
       " 'need',\n",
       " '?',\n",
       " 'i',\n",
       " \"'d\",\n",
       " 'like',\n",
       " 'you',\n",
       " 'to',\n",
       " 'sign',\n",
       " 'off',\n",
       " 'on',\n",
       " 'my',\n",
       " 'vacation',\n",
       " 'request',\n",
       " '.',\n",
       " 'paris',\n",
       " '.',\n",
       " 'i',\n",
       " \"'ve\",\n",
       " 'never',\n",
       " 'heard',\n",
       " 'you',\n",
       " 'talk',\n",
       " 'about',\n",
       " 'paris',\n",
       " '.',\n",
       " 'no',\n",
       " ',',\n",
       " 'but',\n",
       " 'i',\n",
       " 'have',\n",
       " 'heard',\n",
       " 'you',\n",
       " 'talk',\n",
       " 'about',\n",
       " 'it',\n",
       " ',',\n",
       " 'which',\n",
       " 'is',\n",
       " 'why',\n",
       " 'i',\n",
       " \"'m\",\n",
       " 'taking',\n",
       " 'you',\n",
       " '.',\n",
       " 'are',\n",
       " 'you',\n",
       " 'asking',\n",
       " 'me',\n",
       " 'to',\n",
       " 'go',\n",
       " 'to',\n",
       " 'paris',\n",
       " 'with',\n",
       " 'you',\n",
       " '?',\n",
       " 'i',\n",
       " 'believe',\n",
       " 'i',\n",
       " 'just',\n",
       " 'did',\n",
       " '.',\n",
       " 'jeff',\n",
       " ',',\n",
       " 'do',\n",
       " 'you',\n",
       " 'have',\n",
       " 'any',\n",
       " 'idea',\n",
       " 'how',\n",
       " 'much',\n",
       " 'is',\n",
       " 'on',\n",
       " 'my',\n",
       " 'plate',\n",
       " 'right',\n",
       " 'now',\n",
       " '?',\n",
       " 'actually',\n",
       " ',',\n",
       " 'i',\n",
       " 'do',\n",
       " ',',\n",
       " 'all',\n",
       " 'of',\n",
       " 'which',\n",
       " 'harvey',\n",
       " 'has',\n",
       " 'agreed',\n",
       " 'to',\n",
       " 'cover',\n",
       " '.',\n",
       " 'you',\n",
       " 'went',\n",
       " 'to',\n",
       " 'harvey',\n",
       " 'with',\n",
       " 'this',\n",
       " '.',\n",
       " 'well',\n",
       " ',',\n",
       " 'i',\n",
       " 'would',\n",
       " 'have',\n",
       " 'come',\n",
       " 'to',\n",
       " 'you',\n",
       " 'first',\n",
       " ',',\n",
       " 'but',\n",
       " 'then',\n",
       " 'it',\n",
       " 'really',\n",
       " 'would',\n",
       " \"n't\",\n",
       " 'be',\n",
       " 'a',\n",
       " 'surprise',\n",
       " '.',\n",
       " 'i',\n",
       " \"'ll\",\n",
       " 'think',\n",
       " 'about',\n",
       " 'it',\n",
       " '.',\n",
       " 'take',\n",
       " 'all',\n",
       " 'the',\n",
       " 'time',\n",
       " 'you',\n",
       " 'need',\n",
       " '.',\n",
       " 'but',\n",
       " 'in',\n",
       " 'the',\n",
       " 'meantime',\n",
       " ',',\n",
       " 'i',\n",
       " \"'ll\",\n",
       " 'be',\n",
       " 'thinking',\n",
       " 'about',\n",
       " 'who',\n",
       " 'else',\n",
       " 'around',\n",
       " 'here',\n",
       " 'i',\n",
       " 'can',\n",
       " 'take',\n",
       " '.',\n",
       " 'really',\n",
       " '?',\n",
       " 'well',\n",
       " ',',\n",
       " 'you',\n",
       " \"'re\",\n",
       " 'awfully',\n",
       " 'sure',\n",
       " 'of',\n",
       " 'yourself',\n",
       " '.',\n",
       " 'you',\n",
       " 'think',\n",
       " 'i',\n",
       " 'have',\n",
       " \"n't\",\n",
       " 'seen',\n",
       " 'the',\n",
       " 'way',\n",
       " 'norma',\n",
       " 'looks',\n",
       " 'at',\n",
       " 'me',\n",
       " '?',\n",
       " 'calls',\n",
       " 'me',\n",
       " 'the',\n",
       " 'black',\n",
       " 'stallion',\n",
       " '.',\n",
       " 'norma',\n",
       " '.',\n",
       " 'taking',\n",
       " 'a',\n",
       " 'case',\n",
       " '.',\n",
       " 'what',\n",
       " 'kind',\n",
       " 'of',\n",
       " 'case',\n",
       " '?',\n",
       " 'what',\n",
       " 'does',\n",
       " 'it',\n",
       " 'matter',\n",
       " '?',\n",
       " 'because',\n",
       " 'you',\n",
       " 'would',\n",
       " \"n't\",\n",
       " 'be',\n",
       " 'announcing',\n",
       " 'it',\n",
       " 'like',\n",
       " 'that',\n",
       " 'if',\n",
       " 'there',\n",
       " 'was',\n",
       " \"n't\",\n",
       " 'something',\n",
       " 'wrong',\n",
       " '.',\n",
       " 'it',\n",
       " \"'s\",\n",
       " 'a',\n",
       " 'case',\n",
       " 'that',\n",
       " 'came',\n",
       " 'from',\n",
       " 'professor',\n",
       " 'gerard',\n",
       " '.',\n",
       " 'what',\n",
       " '?',\n",
       " 'a',\n",
       " 'man',\n",
       " 'who',\n",
       " 'used',\n",
       " 'to',\n",
       " 'work',\n",
       " 'at',\n",
       " 'liberty',\n",
       " 'rail',\n",
       " 'says',\n",
       " 'the',\n",
       " 'real',\n",
       " 'cause',\n",
       " 'of',\n",
       " 'the',\n",
       " 'crash',\n",
       " 'was',\n",
       " 'covered',\n",
       " 'up',\n",
       " '.',\n",
       " 'then',\n",
       " 'refer',\n",
       " 'him',\n",
       " 'to',\n",
       " 'a',\n",
       " 'firm',\n",
       " 'that',\n",
       " 'takes',\n",
       " 'whistle',\n",
       " 'blower',\n",
       " 'cases',\n",
       " ',',\n",
       " 'because',\n",
       " 'we',\n",
       " 'do',\n",
       " \"n't\",\n",
       " '.',\n",
       " 'yeah',\n",
       " ',',\n",
       " 'i',\n",
       " \"'m\",\n",
       " 'not',\n",
       " 'gon',\n",
       " 'na',\n",
       " 'do',\n",
       " 'that',\n",
       " '.',\n",
       " 'then',\n",
       " 'do',\n",
       " \"n't\",\n",
       " ',',\n",
       " 'but',\n",
       " 'there',\n",
       " \"'s\",\n",
       " 'a',\n",
       " 'reason',\n",
       " 'lawyers',\n",
       " 'who',\n",
       " 'take',\n",
       " 'whistle',\n",
       " 'blower',\n",
       " 'cases',\n",
       " 'do',\n",
       " \"n't\",\n",
       " 'work',\n",
       " 'here',\n",
       " ',',\n",
       " 'and',\n",
       " 'it',\n",
       " \"'s\",\n",
       " 'because',\n",
       " 'corporations',\n",
       " 'do',\n",
       " \"n't\",\n",
       " 'appreciate',\n",
       " 'shakedown',\n",
       " 'artists',\n",
       " '.',\n",
       " 'and',\n",
       " 'what',\n",
       " 'if',\n",
       " 'this',\n",
       " 'is',\n",
       " \"n't\",\n",
       " 'a',\n",
       " 'shakedown',\n",
       " '?',\n",
       " 'and',\n",
       " 'how',\n",
       " 'do',\n",
       " 'you',\n",
       " 'know',\n",
       " ...]"
      ]
     },
     "execution_count": 49,
     "metadata": {},
     "output_type": "execute_result"
    }
   ],
   "source": [
    "b1_subt_1_tokenize = word_tokenize(b1_subt_1)\n",
    "b1_subt_1_tokenize"
   ]
  },
  {
   "cell_type": "code",
   "execution_count": 50,
   "id": "d47d8065",
   "metadata": {
    "ExecuteTime": {
     "end_time": "2023-04-11T11:06:44.149218Z",
     "start_time": "2023-04-11T11:06:44.120634Z"
    }
   },
   "outputs": [],
   "source": [
    "b1_subt_1_filter = [word for word in b1_subt_1_tokenize if word not in stop_words]"
   ]
  },
  {
   "cell_type": "code",
   "execution_count": 51,
   "id": "4e27ad1c",
   "metadata": {
    "ExecuteTime": {
     "end_time": "2023-04-11T11:06:46.208664Z",
     "start_time": "2023-04-11T11:06:44.150840Z"
    }
   },
   "outputs": [],
   "source": [
    "b1_subt_1_lemm = [lemmatizer.lemmatize(word) for word in b1_subt_1_filter]"
   ]
  },
  {
   "cell_type": "code",
   "execution_count": 52,
   "id": "36f09564",
   "metadata": {
    "ExecuteTime": {
     "end_time": "2023-04-11T11:06:46.503914Z",
     "start_time": "2023-04-11T11:06:46.210414Z"
    }
   },
   "outputs": [],
   "source": [
    "a1_=a2_=b1_=b2_=c1_=others=0\n",
    "others_words=[]\n",
    "\n",
    "for word_ in b1_subt_1_lemm:\n",
    "    if word_ in A1:\n",
    "        a1_ +=1\n",
    "    elif word_ in A2:\n",
    "        a2_ +=1\n",
    "    elif word_ in B1:\n",
    "        b1_ +=1\n",
    "    elif word_ in B2:\n",
    "        b2_ +=1\n",
    "    elif word_ in C1:\n",
    "        c1_ +=1\n",
    "    elif word_ not in [\".\",\"!\",\"'\",\",\",\"?\"]:\n",
    "        others +=1\n",
    "        others_words.append(word_)"
   ]
  },
  {
   "cell_type": "code",
   "execution_count": 53,
   "id": "8ccab824",
   "metadata": {
    "ExecuteTime": {
     "end_time": "2023-04-11T11:06:46.519394Z",
     "start_time": "2023-04-11T11:06:46.506150Z"
    }
   },
   "outputs": [
    {
     "data": {
      "text/plain": [
       "1339"
      ]
     },
     "execution_count": 53,
     "metadata": {},
     "output_type": "execute_result"
    }
   ],
   "source": [
    "a1_"
   ]
  },
  {
   "cell_type": "code",
   "execution_count": 54,
   "id": "fccb7a01",
   "metadata": {
    "ExecuteTime": {
     "end_time": "2023-04-11T11:06:46.535184Z",
     "start_time": "2023-04-11T11:06:46.520977Z"
    }
   },
   "outputs": [
    {
     "data": {
      "text/plain": [
       "293"
      ]
     },
     "execution_count": 54,
     "metadata": {},
     "output_type": "execute_result"
    }
   ],
   "source": [
    "a2_"
   ]
  },
  {
   "cell_type": "code",
   "execution_count": 55,
   "id": "1f8aee01",
   "metadata": {
    "ExecuteTime": {
     "end_time": "2023-04-11T11:06:46.550347Z",
     "start_time": "2023-04-11T11:06:46.537189Z"
    }
   },
   "outputs": [
    {
     "data": {
      "text/plain": [
       "112"
      ]
     },
     "execution_count": 55,
     "metadata": {},
     "output_type": "execute_result"
    }
   ],
   "source": [
    "b1_"
   ]
  },
  {
   "cell_type": "code",
   "execution_count": 56,
   "id": "74e23df9",
   "metadata": {
    "ExecuteTime": {
     "end_time": "2023-04-11T11:06:46.565704Z",
     "start_time": "2023-04-11T11:06:46.552474Z"
    }
   },
   "outputs": [
    {
     "data": {
      "text/plain": [
       "97"
      ]
     },
     "execution_count": 56,
     "metadata": {},
     "output_type": "execute_result"
    }
   ],
   "source": [
    "b2_"
   ]
  },
  {
   "cell_type": "code",
   "execution_count": 57,
   "id": "afd9a0d7",
   "metadata": {
    "ExecuteTime": {
     "end_time": "2023-04-11T11:06:46.581039Z",
     "start_time": "2023-04-11T11:06:46.567793Z"
    }
   },
   "outputs": [
    {
     "data": {
      "text/plain": [
       "57"
      ]
     },
     "execution_count": 57,
     "metadata": {},
     "output_type": "execute_result"
    }
   ],
   "source": [
    "c1_"
   ]
  },
  {
   "cell_type": "code",
   "execution_count": 58,
   "id": "d986a289",
   "metadata": {
    "ExecuteTime": {
     "end_time": "2023-04-11T11:06:46.596430Z",
     "start_time": "2023-04-11T11:06:46.582777Z"
    }
   },
   "outputs": [
    {
     "data": {
      "text/plain": [
       "887"
      ]
     },
     "execution_count": 58,
     "metadata": {},
     "output_type": "execute_result"
    }
   ],
   "source": [
    "others"
   ]
  },
  {
   "cell_type": "code",
   "execution_count": 59,
   "id": "f614d358",
   "metadata": {
    "ExecuteTime": {
     "end_time": "2023-04-11T11:06:46.612413Z",
     "start_time": "2023-04-11T11:06:46.598747Z"
    }
   },
   "outputs": [],
   "source": [
    "others_words = list(set(others_words))"
   ]
  },
  {
   "cell_type": "code",
   "execution_count": 60,
   "id": "98f4e413",
   "metadata": {
    "ExecuteTime": {
     "end_time": "2023-04-11T11:06:46.627402Z",
     "start_time": "2023-04-11T11:06:46.614339Z"
    }
   },
   "outputs": [
    {
     "data": {
      "text/plain": [
       "307"
      ]
     },
     "execution_count": 60,
     "metadata": {},
     "output_type": "execute_result"
    }
   ],
   "source": [
    "len(others_words)"
   ]
  },
  {
   "cell_type": "code",
   "execution_count": 61,
   "id": "6635eb46",
   "metadata": {
    "ExecuteTime": {
     "end_time": "2023-04-11T11:06:46.643541Z",
     "start_time": "2023-04-11T11:06:46.629312Z"
    }
   },
   "outputs": [
    {
     "data": {
      "text/plain": [
       "['sent',\n",
       " 'whistle',\n",
       " 'farmville',\n",
       " 'harvey',\n",
       " 'hatchet',\n",
       " 'rolled',\n",
       " 'keeping',\n",
       " 'madame',\n",
       " 'prank',\n",
       " 'sync',\n",
       " 'bonding',\n",
       " 'faulty',\n",
       " 'february',\n",
       " 'sued',\n",
       " 'requesting',\n",
       " 'saw',\n",
       " 'messing',\n",
       " 'evan',\n",
       " \"'bout\",\n",
       " 'wo',\n",
       " 'today',\n",
       " 'accepting',\n",
       " 'proposed',\n",
       " 'brought',\n",
       " 'announcing',\n",
       " 'blowing',\n",
       " 'acknowledging',\n",
       " 'overheat',\n",
       " 'treated',\n",
       " 'trusting',\n",
       " 'sending',\n",
       " 'latin',\n",
       " 'liar',\n",
       " 'released',\n",
       " 'promised',\n",
       " \"'cause\",\n",
       " 'kidding',\n",
       " 'dice',\n",
       " 'anderton',\n",
       " 'dominating',\n",
       " 'hiring',\n",
       " 'agreed',\n",
       " 'answering',\n",
       " 'zane',\n",
       " 'playoff',\n",
       " 'said',\n",
       " 'blackmailing',\n",
       " 'invested',\n",
       " 'jeff',\n",
       " 'admitting',\n",
       " 'hung',\n",
       " 'blower',\n",
       " 'shit',\n",
       " 'picnic',\n",
       " 'bon',\n",
       " 'macallan',\n",
       " 'wan',\n",
       " 'tried',\n",
       " 'going',\n",
       " 'eighth',\n",
       " 'headlock',\n",
       " 'australia',\n",
       " 'fed',\n",
       " 'specter',\n",
       " 'violated',\n",
       " 'instructed',\n",
       " 'refund',\n",
       " 'gon',\n",
       " 'bender',\n",
       " 'itinerary',\n",
       " 'bothered',\n",
       " 'congratulation',\n",
       " 'routinely',\n",
       " 'pie',\n",
       " 'burning',\n",
       " 'ooh',\n",
       " 'ross',\n",
       " 'uh',\n",
       " 'le',\n",
       " 'patching',\n",
       " 'passed',\n",
       " 'hardman',\n",
       " 'richard',\n",
       " 'elder',\n",
       " 'sketchy',\n",
       " 'obsessing',\n",
       " 'showing',\n",
       " 'okay',\n",
       " 'jesus',\n",
       " 'demanding',\n",
       " 'shorten',\n",
       " 'asking',\n",
       " 'unlawfully',\n",
       " 'reminisce',\n",
       " 'sealing',\n",
       " 'grilled',\n",
       " 'pas',\n",
       " 'went',\n",
       " 'firing',\n",
       " 'sorrys',\n",
       " 'receptionist',\n",
       " 'damn',\n",
       " 'greenback',\n",
       " 'answered',\n",
       " 'pissed',\n",
       " 'paris',\n",
       " 'knowing',\n",
       " 'taking',\n",
       " 'brake',\n",
       " 'given',\n",
       " 'bro',\n",
       " 'nope',\n",
       " 'wrote',\n",
       " 'gandhi',\n",
       " 'taken',\n",
       " 'throne',\n",
       " 'lying',\n",
       " 'messed',\n",
       " 'cinq',\n",
       " 'mayan',\n",
       " 'french',\n",
       " 'ordered',\n",
       " 'talking',\n",
       " 'loved',\n",
       " 'louis',\n",
       " 'seen',\n",
       " 'bump',\n",
       " 'loire',\n",
       " 'telling',\n",
       " 'harassing',\n",
       " 'patched',\n",
       " 'heard',\n",
       " 'seventh',\n",
       " 'paranoid',\n",
       " 'asked',\n",
       " 'defective',\n",
       " 'stellar',\n",
       " 'needy',\n",
       " 'swinging',\n",
       " 'henderson',\n",
       " 'rodin',\n",
       " 'worrying',\n",
       " 'sexually',\n",
       " 'felt',\n",
       " 'kaldore',\n",
       " 'shady',\n",
       " 'pulled',\n",
       " 'changed',\n",
       " 'brings',\n",
       " 'shown',\n",
       " 'saying',\n",
       " 'scottie',\n",
       " 'plaintiff',\n",
       " 'scaring',\n",
       " 'replaced',\n",
       " 'fired',\n",
       " 'norma',\n",
       " 'ceo',\n",
       " 'supposed',\n",
       " 'done',\n",
       " 'overreact',\n",
       " 'reached',\n",
       " 'lite',\n",
       " 'took',\n",
       " 'authorization',\n",
       " 'goddamn',\n",
       " 'shakedown',\n",
       " 'r',\n",
       " 'superheroes',\n",
       " 'ordering',\n",
       " 'boogie',\n",
       " 'elise',\n",
       " 'jeffrey',\n",
       " 'calendar',\n",
       " 'missy',\n",
       " 'pearson',\n",
       " 'embezzlement',\n",
       " 'risking',\n",
       " 'exodus',\n",
       " 'got',\n",
       " 'daniel',\n",
       " 'visited',\n",
       " 'seine',\n",
       " 'gave',\n",
       " 'sip',\n",
       " 'voyage',\n",
       " 'mahatma',\n",
       " 'looking',\n",
       " 'christ',\n",
       " 'rachel',\n",
       " 'crashed',\n",
       " 'forgiving',\n",
       " 'joe',\n",
       " 'wanted',\n",
       " 'smith',\n",
       " 'derailed',\n",
       " 'higher',\n",
       " 'smallest',\n",
       " 'leering',\n",
       " 'trying',\n",
       " 'bribe',\n",
       " 'stallion',\n",
       " 'started',\n",
       " 'paid',\n",
       " 'u',\n",
       " 'indefinite',\n",
       " 'holding',\n",
       " 'foul',\n",
       " 'bitch',\n",
       " 'miller',\n",
       " 'figuring',\n",
       " 'corrected',\n",
       " 'awfully',\n",
       " 'bullshit',\n",
       " 'intimidate',\n",
       " 'sensor',\n",
       " 'sealed',\n",
       " 'talker',\n",
       " 'insane',\n",
       " 'pulling',\n",
       " 'called',\n",
       " 'discus',\n",
       " 'na',\n",
       " 'deposition',\n",
       " 'died',\n",
       " 'charlie',\n",
       " 'mcintyre',\n",
       " 'liquor',\n",
       " 'danced',\n",
       " 'donna',\n",
       " 'trois',\n",
       " 'pickle',\n",
       " 'playing',\n",
       " 'arranged',\n",
       " 'knew',\n",
       " 'danielle',\n",
       " 'scheduled',\n",
       " 'someday',\n",
       " 'wasting',\n",
       " 'axle',\n",
       " 'litt',\n",
       " 'conducted',\n",
       " 'exceptionally',\n",
       " 'listening',\n",
       " 'admits',\n",
       " 'covering',\n",
       " 'matchmaker',\n",
       " 'quatre',\n",
       " 'cleared',\n",
       " 'made',\n",
       " 'hammer',\n",
       " 'backed',\n",
       " 'came',\n",
       " 'jessica',\n",
       " 'dc',\n",
       " 'forgotten',\n",
       " 'derailment',\n",
       " 'continuing',\n",
       " 'rand',\n",
       " 'gerard',\n",
       " 'happened',\n",
       " 'number',\n",
       " 'mike',\n",
       " 'stepped',\n",
       " 'sh',\n",
       " 'told',\n",
       " 'getting',\n",
       " 'neanderthal',\n",
       " 'shred',\n",
       " 'gillis',\n",
       " 'disrespect',\n",
       " 'admissible',\n",
       " 'saved',\n",
       " 'ran',\n",
       " 'learned',\n",
       " 'talked',\n",
       " 'uncommon',\n",
       " 'contradicts',\n",
       " 'despise',\n",
       " 'handsome',\n",
       " 'heading',\n",
       " 'nage',\n",
       " 'starting',\n",
       " 'sooner',\n",
       " 'bonjour',\n",
       " 'heartless',\n",
       " 'prof',\n",
       " 'lockstep',\n",
       " 'risked',\n",
       " 'subpoena',\n",
       " 'spoke',\n",
       " 'begging',\n",
       " 'showed',\n",
       " 'remembered',\n",
       " 'filing',\n",
       " 'unethical',\n",
       " 'settling',\n",
       " 'elderman',\n",
       " 'blatant',\n",
       " 'coming',\n",
       " 'failing',\n",
       " \"'ve\",\n",
       " 'leverage',\n",
       " 'landline',\n",
       " 'fabricated',\n",
       " 'ing',\n",
       " 'identifying']"
      ]
     },
     "execution_count": 61,
     "metadata": {},
     "output_type": "execute_result"
    }
   ],
   "source": [
    "others_words"
   ]
  },
  {
   "cell_type": "code",
   "execution_count": 62,
   "id": "7543df1a",
   "metadata": {
    "ExecuteTime": {
     "end_time": "2023-04-11T11:06:46.659350Z",
     "start_time": "2023-04-11T11:06:46.645233Z"
    }
   },
   "outputs": [
    {
     "data": {
      "text/plain": [
       "'heart'"
      ]
     },
     "execution_count": 62,
     "metadata": {},
     "output_type": "execute_result"
    }
   ],
   "source": [
    "lemmatizer.lemmatize('heart')"
   ]
  },
  {
   "cell_type": "markdown",
   "id": "8e5457ae",
   "metadata": {},
   "source": [
    "# Data preprocessing\n"
   ]
  },
  {
   "cell_type": "code",
   "execution_count": 63,
   "id": "a734d155",
   "metadata": {
    "ExecuteTime": {
     "end_time": "2023-04-11T11:06:47.427065Z",
     "start_time": "2023-04-11T11:06:46.661193Z"
    }
   },
   "outputs": [
    {
     "data": {
      "text/html": [
       "<div>\n",
       "<style scoped>\n",
       "    .dataframe tbody tr th:only-of-type {\n",
       "        vertical-align: middle;\n",
       "    }\n",
       "\n",
       "    .dataframe tbody tr th {\n",
       "        vertical-align: top;\n",
       "    }\n",
       "\n",
       "    .dataframe thead th {\n",
       "        text-align: right;\n",
       "    }\n",
       "</style>\n",
       "<table border=\"1\" class=\"dataframe\">\n",
       "  <thead>\n",
       "    <tr style=\"text-align: right;\">\n",
       "      <th></th>\n",
       "      <th>id</th>\n",
       "      <th>Movie</th>\n",
       "      <th>Level</th>\n",
       "      <th>Score</th>\n",
       "    </tr>\n",
       "  </thead>\n",
       "  <tbody>\n",
       "    <tr>\n",
       "      <th>0</th>\n",
       "      <td>0</td>\n",
       "      <td>10_Cloverfield_lane(2016)</td>\n",
       "      <td>B1</td>\n",
       "      <td>5</td>\n",
       "    </tr>\n",
       "    <tr>\n",
       "      <th>1</th>\n",
       "      <td>1</td>\n",
       "      <td>10_things_I_hate_about_you(1999)</td>\n",
       "      <td>B1</td>\n",
       "      <td>5</td>\n",
       "    </tr>\n",
       "    <tr>\n",
       "      <th>2</th>\n",
       "      <td>2</td>\n",
       "      <td>A_knights_tale(2001)</td>\n",
       "      <td>B2</td>\n",
       "      <td>7</td>\n",
       "    </tr>\n",
       "    <tr>\n",
       "      <th>3</th>\n",
       "      <td>3</td>\n",
       "      <td>A_star_is_born(2018)</td>\n",
       "      <td>B2</td>\n",
       "      <td>7</td>\n",
       "    </tr>\n",
       "    <tr>\n",
       "      <th>4</th>\n",
       "      <td>4</td>\n",
       "      <td>Aladdin(1992)</td>\n",
       "      <td>A2/A2+</td>\n",
       "      <td>4</td>\n",
       "    </tr>\n",
       "  </tbody>\n",
       "</table>\n",
       "</div>"
      ],
      "text/plain": [
       "   id                             Movie   Level  Score\n",
       "0   0         10_Cloverfield_lane(2016)      B1      5\n",
       "1   1  10_things_I_hate_about_you(1999)      B1      5\n",
       "2   2              A_knights_tale(2001)      B2      7\n",
       "3   3              A_star_is_born(2018)      B2      7\n",
       "4   4                     Aladdin(1992)  A2/A2+      4"
      ]
     },
     "metadata": {},
     "output_type": "display_data"
    },
    {
     "name": "stdout",
     "output_type": "stream",
     "text": [
      "<class 'pandas.core.frame.DataFrame'>\n",
      "RangeIndex: 241 entries, 0 to 240\n",
      "Data columns (total 4 columns):\n",
      " #   Column  Non-Null Count  Dtype \n",
      "---  ------  --------------  ----- \n",
      " 0   id      241 non-null    int64 \n",
      " 1   Movie   241 non-null    object\n",
      " 2   Level   241 non-null    object\n",
      " 3   Score   241 non-null    int64 \n",
      "dtypes: int64(2), object(2)\n",
      "memory usage: 7.7+ KB\n"
     ]
    },
    {
     "data": {
      "text/plain": [
       "None"
      ]
     },
     "metadata": {},
     "output_type": "display_data"
    }
   ],
   "source": [
    "films_for_levels = pd.read_excel(\".\\English_scores\\movies_labels.xlsx\")\n",
    "display(films_for_levels.head())\n",
    "display(films_for_levels.info())"
   ]
  },
  {
   "cell_type": "code",
   "execution_count": 64,
   "id": "a57ddec8",
   "metadata": {
    "ExecuteTime": {
     "end_time": "2023-04-11T11:06:47.442229Z",
     "start_time": "2023-04-11T11:06:47.428710Z"
    }
   },
   "outputs": [
    {
     "data": {
      "text/plain": [
       "241"
      ]
     },
     "execution_count": 64,
     "metadata": {},
     "output_type": "execute_result"
    }
   ],
   "source": [
    "len(films_for_levels)"
   ]
  },
  {
   "cell_type": "code",
   "execution_count": 65,
   "id": "1f42ef02",
   "metadata": {
    "ExecuteTime": {
     "end_time": "2023-04-11T11:06:47.457960Z",
     "start_time": "2023-04-11T11:06:47.443231Z"
    }
   },
   "outputs": [],
   "source": [
    "lemmatize_subs = []\n",
    "stemmer_subs = []\n",
    "simple_subs = []\n",
    "A1_subs = [] \n",
    "A2_subs = [] \n",
    "B1_subs = [] \n",
    "B2_subs = [] \n",
    "C1_subs = [] \n",
    "OTHERS_subs = [] \n",
    "OTHERS_WORDS_subs = []"
   ]
  },
  {
   "cell_type": "code",
   "execution_count": 66,
   "id": "74c24e5b",
   "metadata": {
    "ExecuteTime": {
     "end_time": "2023-04-11T11:09:21.345255Z",
     "start_time": "2023-04-11T11:06:47.461501Z"
    }
   },
   "outputs": [],
   "source": [
    "\n",
    "for i in films_for_levels.index:\n",
    "    film_name_subs = '.\\\\English_scores\\\\Subtitles_all\\\\Subtitles\\\\' + films_for_levels.iloc[i,1] + '.srt'\n",
    "    #print(film_name_subs,'\\n')\n",
    "    subs = pysrt.open(film_name_subs , encoding='latin-1')\n",
    "    #print(subs.text[:200],'\\n')\n",
    "    subs_simple, subs_lem, subs_stem, a1, a2, b1, b2, c1, others, others_words = data_preprocessing(subs.text)\n",
    "    if len(subs_lem) == 0:\n",
    "        subs = pysrt.open(film_name_subs)\n",
    "        subs_simple, subs_lem, subs_stem, a1, a2, b1, b2, c1, others, others_words = data_preprocessing(subs.text)\n",
    "        \n",
    "    #print(films_for_levels.iloc[i,1], \" - \", subs_lem[:10], '\\n', a1_, a2_, b1_, b2_, c1_, others_, others_words_[:10], '\\n\\n\\n')\n",
    "    lemmatize_subs.append(subs_lem)\n",
    "    stemmer_subs.append(subs_stem)\n",
    "    simple_subs.append(subs_simple)\n",
    "    A1_subs.append(a1)\n",
    "    A2_subs.append(a2)\n",
    "    B1_subs.append(b1)\n",
    "    B2_subs.append(b2)\n",
    "    C1_subs.append(c1)\n",
    "    OTHERS_subs.append(others)\n",
    "    OTHERS_WORDS_subs.append(others_words)\n",
    "    \n",
    "    #print(\"cycle \", i, '\\n\\n', \" a1 - \", a1, '\\n', \"A1_subs - \", A1_subs, '\\n\\n', \" a2 - \", a2, '\\n', \"A2_subs - \", A2_subs, '\\n\\n\\n')\n",
    "\n",
    "#print(A1_subs, '\\n', A2_subs, '\\n')\n",
    "\n",
    "films_for_levels['lemmatize_subs'] = pd.Series(lemmatize_subs)\n",
    "films_for_levels['stemm_subs'] = pd.Series(stemmer_subs)\n",
    "films_for_levels['simple_subs'] = pd.Series(simple_subs)\n",
    "films_for_levels['a1_subs'] = pd.Series(A1_subs)\n",
    "films_for_levels['a2_subs'] = pd.Series(A2_subs)\n",
    "films_for_levels['b1_subs'] = pd.Series(B1_subs)\n",
    "films_for_levels['b2_subs'] = pd.Series(B2_subs)\n",
    "films_for_levels['c1_subs'] = pd.Series(C1_subs)\n",
    "films_for_levels['others_subs'] = pd.Series(OTHERS_subs)\n",
    "films_for_levels['others_words_subs'] = pd.Series(OTHERS_WORDS_subs)"
   ]
  },
  {
   "cell_type": "code",
   "execution_count": 67,
   "id": "794b8b4f",
   "metadata": {
    "ExecuteTime": {
     "end_time": "2023-04-11T11:09:21.377128Z",
     "start_time": "2023-04-11T11:09:21.348144Z"
    }
   },
   "outputs": [
    {
     "data": {
      "text/html": [
       "<div>\n",
       "<style scoped>\n",
       "    .dataframe tbody tr th:only-of-type {\n",
       "        vertical-align: middle;\n",
       "    }\n",
       "\n",
       "    .dataframe tbody tr th {\n",
       "        vertical-align: top;\n",
       "    }\n",
       "\n",
       "    .dataframe thead th {\n",
       "        text-align: right;\n",
       "    }\n",
       "</style>\n",
       "<table border=\"1\" class=\"dataframe\">\n",
       "  <thead>\n",
       "    <tr style=\"text-align: right;\">\n",
       "      <th></th>\n",
       "      <th>id</th>\n",
       "      <th>Movie</th>\n",
       "      <th>Level</th>\n",
       "      <th>Score</th>\n",
       "      <th>lemmatize_subs</th>\n",
       "      <th>stemm_subs</th>\n",
       "      <th>simple_subs</th>\n",
       "      <th>a1_subs</th>\n",
       "      <th>a2_subs</th>\n",
       "      <th>b1_subs</th>\n",
       "      <th>b2_subs</th>\n",
       "      <th>c1_subs</th>\n",
       "      <th>others_subs</th>\n",
       "      <th>others_words_subs</th>\n",
       "    </tr>\n",
       "  </thead>\n",
       "  <tbody>\n",
       "    <tr>\n",
       "      <th>0</th>\n",
       "      <td>0</td>\n",
       "      <td>10_Cloverfield_lane(2016)</td>\n",
       "      <td>B1</td>\n",
       "      <td>5</td>\n",
       "      <td>enjoy flick ben phone michelle please hang . t...</td>\n",
       "      <td>enjoy flick ben phone michel pleas hang . talk...</td>\n",
       "      <td>enjoy the flick ben on phone michelle  please...</td>\n",
       "      <td>1133</td>\n",
       "      <td>241</td>\n",
       "      <td>107</td>\n",
       "      <td>77</td>\n",
       "      <td>30</td>\n",
       "      <td>659</td>\n",
       "      <td>[emmett, megan, restored, sent, stitch, dragge...</td>\n",
       "    </tr>\n",
       "    <tr>\n",
       "      <th>1</th>\n",
       "      <td>1</td>\n",
       "      <td>10_things_I_hate_about_you(1999)</td>\n",
       "      <td>B1</td>\n",
       "      <td>5</td>\n",
       "      <td>cameron . go . nine school year . . army brat ...</td>\n",
       "      <td>cameron . go . nine school year . . armi brat ...</td>\n",
       "      <td>so  cameron. here you go. nine schools in yea...</td>\n",
       "      <td>2040</td>\n",
       "      <td>357</td>\n",
       "      <td>144</td>\n",
       "      <td>149</td>\n",
       "      <td>65</td>\n",
       "      <td>1112</td>\n",
       "      <td>[horny, problemo, perky, virgin, pussycat, bri...</td>\n",
       "    </tr>\n",
       "    <tr>\n",
       "      <th>2</th>\n",
       "      <td>2</td>\n",
       "      <td>A_knights_tale(2001)</td>\n",
       "      <td>B2</td>\n",
       "      <td>7</td>\n",
       "      <td>two minute forfeit . lend u . right . left . d...</td>\n",
       "      <td>two minut forfeit . lend us . right . left . d...</td>\n",
       "      <td>two minutes or forfeit. lend us those. right....</td>\n",
       "      <td>1511</td>\n",
       "      <td>406</td>\n",
       "      <td>163</td>\n",
       "      <td>203</td>\n",
       "      <td>104</td>\n",
       "      <td>1234</td>\n",
       "      <td>[slept, hardens, adhemar, spear, virgin, brie,...</td>\n",
       "    </tr>\n",
       "    <tr>\n",
       "      <th>3</th>\n",
       "      <td>3</td>\n",
       "      <td>A_star_is_born(2018)</td>\n",
       "      <td>B2</td>\n",
       "      <td>7</td>\n",
       "      <td>black eye open wide time testify room lie ever...</td>\n",
       "      <td>black eye open wide time testifi room lie ever...</td>\n",
       "      <td>black eyes open wide it's time to testify the...</td>\n",
       "      <td>3108</td>\n",
       "      <td>504</td>\n",
       "      <td>152</td>\n",
       "      <td>175</td>\n",
       "      <td>70</td>\n",
       "      <td>1506</td>\n",
       "      <td>[whoa, sent, longing, pea, aww, idolized, obsc...</td>\n",
       "    </tr>\n",
       "    <tr>\n",
       "      <th>4</th>\n",
       "      <td>4</td>\n",
       "      <td>Aladdin(1992)</td>\n",
       "      <td>A2/A2+</td>\n",
       "      <td>4</td>\n",
       "      <td>please please come closer . close . little clo...</td>\n",
       "      <td>pleas pleas come closer . close . littl close ...</td>\n",
       "      <td>please  please  come closer. too close. a lit...</td>\n",
       "      <td>1644</td>\n",
       "      <td>487</td>\n",
       "      <td>281</td>\n",
       "      <td>190</td>\n",
       "      <td>74</td>\n",
       "      <td>1255</td>\n",
       "      <td>[knack, whoa, pussycat, sent, hookah, iago, fi...</td>\n",
       "    </tr>\n",
       "  </tbody>\n",
       "</table>\n",
       "</div>"
      ],
      "text/plain": [
       "   id                             Movie   Level  Score  \\\n",
       "0   0         10_Cloverfield_lane(2016)      B1      5   \n",
       "1   1  10_things_I_hate_about_you(1999)      B1      5   \n",
       "2   2              A_knights_tale(2001)      B2      7   \n",
       "3   3              A_star_is_born(2018)      B2      7   \n",
       "4   4                     Aladdin(1992)  A2/A2+      4   \n",
       "\n",
       "                                      lemmatize_subs  \\\n",
       "0  enjoy flick ben phone michelle please hang . t...   \n",
       "1  cameron . go . nine school year . . army brat ...   \n",
       "2  two minute forfeit . lend u . right . left . d...   \n",
       "3  black eye open wide time testify room lie ever...   \n",
       "4  please please come closer . close . little clo...   \n",
       "\n",
       "                                          stemm_subs  \\\n",
       "0  enjoy flick ben phone michel pleas hang . talk...   \n",
       "1  cameron . go . nine school year . . armi brat ...   \n",
       "2  two minut forfeit . lend us . right . left . d...   \n",
       "3  black eye open wide time testifi room lie ever...   \n",
       "4  pleas pleas come closer . close . littl close ...   \n",
       "\n",
       "                                         simple_subs  a1_subs  a2_subs  \\\n",
       "0   enjoy the flick ben on phone michelle  please...     1133      241   \n",
       "1   so  cameron. here you go. nine schools in yea...     2040      357   \n",
       "2   two minutes or forfeit. lend us those. right....     1511      406   \n",
       "3   black eyes open wide it's time to testify the...     3108      504   \n",
       "4   please  please  come closer. too close. a lit...     1644      487   \n",
       "\n",
       "   b1_subs  b2_subs  c1_subs  others_subs  \\\n",
       "0      107       77       30          659   \n",
       "1      144      149       65         1112   \n",
       "2      163      203      104         1234   \n",
       "3      152      175       70         1506   \n",
       "4      281      190       74         1255   \n",
       "\n",
       "                                   others_words_subs  \n",
       "0  [emmett, megan, restored, sent, stitch, dragge...  \n",
       "1  [horny, problemo, perky, virgin, pussycat, bri...  \n",
       "2  [slept, hardens, adhemar, spear, virgin, brie,...  \n",
       "3  [whoa, sent, longing, pea, aww, idolized, obsc...  \n",
       "4  [knack, whoa, pussycat, sent, hookah, iago, fi...  "
      ]
     },
     "execution_count": 67,
     "metadata": {},
     "output_type": "execute_result"
    }
   ],
   "source": [
    "films_for_levels.head()"
   ]
  },
  {
   "cell_type": "code",
   "execution_count": null,
   "id": "53200be3",
   "metadata": {},
   "outputs": [],
   "source": []
  },
  {
   "cell_type": "markdown",
   "id": "e72079de",
   "metadata": {},
   "source": [
    "# Data prepear\n",
    "\n",
    "## Spliting data"
   ]
  },
  {
   "cell_type": "code",
   "execution_count": 68,
   "id": "db94eea8",
   "metadata": {
    "ExecuteTime": {
     "end_time": "2023-04-11T11:09:21.392942Z",
     "start_time": "2023-04-11T11:09:21.379078Z"
    }
   },
   "outputs": [
    {
     "name": "stdout",
     "output_type": "stream",
     "text": [
      "Train data: (168, 11)\n",
      "Test data: (73, 11)\n"
     ]
    }
   ],
   "source": [
    "data = films_for_levels.copy()\n",
    "\n",
    "data.drop(['id', 'Movie', 'Level'], axis=1, inplace=True)\n",
    "\n",
    "data_train, data_test = train_test_split(data, test_size=0.3, random_state=12345)\n",
    "\n",
    "print(\"Train data:\",  data_train.shape)\n",
    "print(\"Test data:\",  data_test.shape)"
   ]
  },
  {
   "cell_type": "markdown",
   "id": "46e85a01",
   "metadata": {},
   "source": [
    "**It's the first attempt to do something about classes imballance. Later I need to do something else. Now it doesn't work very well**"
   ]
  },
  {
   "cell_type": "code",
   "execution_count": 69,
   "id": "a3fdb602",
   "metadata": {
    "ExecuteTime": {
     "end_time": "2023-04-11T11:09:21.408538Z",
     "start_time": "2023-04-11T11:09:21.394563Z"
    }
   },
   "outputs": [],
   "source": [
    "data_train_3 = [data_train[data_train['Score']==3]]*5\n",
    "data_train_4 = [data_train[data_train['Score']==4]]\n",
    "data_train_5 = [data_train[data_train['Score']==5]]\n",
    "data_train_6 = [data_train[data_train['Score']==6]]*5\n",
    "data_train_7 = [data_train[data_train['Score']==7].sample(frac=0.2, random_state=12345)]\n",
    "#data_train_8 = data_train[data_train['Score']==8]\n",
    "data_train_9 = [data_train[data_train['Score']==9]]"
   ]
  },
  {
   "cell_type": "code",
   "execution_count": 70,
   "id": "c3d0a9f1",
   "metadata": {
    "ExecuteTime": {
     "end_time": "2023-04-11T11:09:21.424188Z",
     "start_time": "2023-04-11T11:09:21.410346Z"
    }
   },
   "outputs": [],
   "source": [
    "data_train_upsample = pd.concat(data_train_3 + data_train_4 + \n",
    "                                   data_train_5 + data_train_6 + data_train_7 + data_train_9)"
   ]
  },
  {
   "cell_type": "code",
   "execution_count": 71,
   "id": "56596512",
   "metadata": {
    "ExecuteTime": {
     "end_time": "2023-04-11T11:09:21.439527Z",
     "start_time": "2023-04-11T11:09:21.426420Z"
    }
   },
   "outputs": [],
   "source": [
    "data_train_upsample = shuffle(data_train_upsample, random_state=12345)\n",
    "data_train_upsample = shuffle(data_train_upsample, random_state=98765)"
   ]
  },
  {
   "cell_type": "code",
   "execution_count": 72,
   "id": "b7efe423",
   "metadata": {
    "ExecuteTime": {
     "end_time": "2023-04-11T11:09:21.455681Z",
     "start_time": "2023-04-11T11:09:21.441496Z"
    }
   },
   "outputs": [],
   "source": [
    "X_train_upsample = data_train_upsample.drop(['Score'], axis=1)\n",
    "y_train_upsample = data_train_upsample['Score']"
   ]
  },
  {
   "cell_type": "code",
   "execution_count": 73,
   "id": "2b2a9857",
   "metadata": {
    "ExecuteTime": {
     "end_time": "2023-04-11T11:09:21.470897Z",
     "start_time": "2023-04-11T11:09:21.456707Z"
    }
   },
   "outputs": [],
   "source": [
    "X_test = data_test.drop(['Score'], axis=1)\n",
    "y_test = data_test['Score']"
   ]
  },
  {
   "cell_type": "code",
   "execution_count": null,
   "id": "a30ba823",
   "metadata": {},
   "outputs": [],
   "source": []
  },
  {
   "cell_type": "markdown",
   "id": "49f5ec41",
   "metadata": {},
   "source": [
    "## BoW"
   ]
  },
  {
   "cell_type": "code",
   "execution_count": 154,
   "id": "3f013d89",
   "metadata": {
    "ExecuteTime": {
     "end_time": "2023-04-11T11:38:01.477314Z",
     "start_time": "2023-04-11T11:38:01.465015Z"
    }
   },
   "outputs": [],
   "source": [
    "N_GRAMM_MIN = 3\n",
    "N_GRAMM_MAX = 3"
   ]
  },
  {
   "cell_type": "code",
   "execution_count": 155,
   "id": "fb2e02ee",
   "metadata": {
    "ExecuteTime": {
     "end_time": "2023-04-11T11:38:04.470497Z",
     "start_time": "2023-04-11T11:38:01.479254Z"
    }
   },
   "outputs": [
    {
     "name": "stdout",
     "output_type": "stream",
     "text": [
      "X_train_lemm_bow shape:  (139, 24753)\n",
      "X_test_lemm_bow shape:  (73, 24753)\n"
     ]
    }
   ],
   "source": [
    "vect = CountVectorizer(min_df=5, ngram_range=(N_GRAMM_MIN,N_GRAMM_MAX))\n",
    "\n",
    "X_train_lemm_bow = vect.fit_transform(X_train_upsample['lemmatize_subs'])\n",
    "X_test_lemm_bow = vect.transform(X_test['lemmatize_subs'])\n",
    "\n",
    "X_train_stemm_bow = vect.fit_transform(X_train_upsample['stemm_subs'])\n",
    "X_test_stemm_bow = vect.transform(X_test['stemm_subs'])\n",
    "\n",
    "print('X_train_lemm_bow shape: ', X_train_lemm_bow.shape)\n",
    "print('X_test_lemm_bow shape: ', X_test_lemm_bow.shape)"
   ]
  },
  {
   "cell_type": "code",
   "execution_count": null,
   "id": "66e91f97",
   "metadata": {
    "ExecuteTime": {
     "end_time": "2023-04-11T09:50:37.279571Z",
     "start_time": "2023-04-11T09:50:37.273961Z"
    }
   },
   "outputs": [],
   "source": []
  },
  {
   "cell_type": "markdown",
   "id": "7d88d6a1",
   "metadata": {},
   "source": [
    "## TF-IDF"
   ]
  },
  {
   "cell_type": "code",
   "execution_count": 156,
   "id": "124815f0",
   "metadata": {
    "ExecuteTime": {
     "end_time": "2023-04-11T11:38:07.479099Z",
     "start_time": "2023-04-11T11:38:04.473605Z"
    }
   },
   "outputs": [
    {
     "name": "stdout",
     "output_type": "stream",
     "text": [
      "X_train_lemm_tfidf shape:  (139, 408)\n",
      "X_test_lemm_tfidf shape:  (73, 408)\n"
     ]
    }
   ],
   "source": [
    "vectorizer = TfidfVectorizer(min_df=8, ngram_range=(N_GRAMM_MIN,N_GRAMM_MAX))\n",
    "\n",
    "X_train_lemm_tfidf = vectorizer.fit_transform(X_train_upsample['lemmatize_subs'])\n",
    "X_test_lemm_tfidf = vectorizer.transform(X_test['lemmatize_subs'])\n",
    "\n",
    "X_train_stemm_tfidf = vectorizer.fit_transform(X_train_upsample['stemm_subs'])\n",
    "X_test_stemm_tfidf = vectorizer.transform(X_test['stemm_subs'])\n",
    "\n",
    "print('X_train_lemm_tfidf shape: ', X_train_lemm_tfidf.shape)\n",
    "print('X_test_lemm_tfidf shape: ', X_test_lemm_tfidf.shape)"
   ]
  },
  {
   "cell_type": "code",
   "execution_count": null,
   "id": "be2c3800",
   "metadata": {},
   "outputs": [],
   "source": []
  },
  {
   "cell_type": "markdown",
   "id": "82236822",
   "metadata": {},
   "source": [
    "# Building models\n",
    "\n",
    "## Naive Bayes (BoW)"
   ]
  },
  {
   "cell_type": "markdown",
   "id": "08b857bd",
   "metadata": {},
   "source": [
    "### Lemmas"
   ]
  },
  {
   "cell_type": "code",
   "execution_count": 157,
   "id": "eba1eee0",
   "metadata": {
    "ExecuteTime": {
     "end_time": "2023-04-11T11:38:07.525987Z",
     "start_time": "2023-04-11T11:38:07.483202Z"
    }
   },
   "outputs": [
    {
     "name": "stdout",
     "output_type": "stream",
     "text": [
      "Test Accuracy:  0.3424657534246575\n",
      "F1:  0.17765835285471496\n"
     ]
    }
   ],
   "source": [
    "clf = MultinomialNB()\n",
    "clf.fit(X_train_lemm_bow, y_train_upsample)\n",
    "\n",
    "y_pred_lemm_nb_bow = clf.predict(X_test_lemm_bow) \n",
    "\n",
    "accuracy_lemm_nb_bow = accuracy_score(y_test, y_pred_lemm_nb_bow)\n",
    "f1_lemm_nb_bow = f1_score(y_test, y_pred_lemm_nb_bow, average='macro')\n",
    "\n",
    "print('Test Accuracy: ', accuracy_lemm_nb_bow) \n",
    "print('F1: ', f1_lemm_nb_bow)\n"
   ]
  },
  {
   "cell_type": "code",
   "execution_count": 158,
   "id": "65fddf11",
   "metadata": {
    "ExecuteTime": {
     "end_time": "2023-04-11T11:38:07.839939Z",
     "start_time": "2023-04-11T11:38:07.528312Z"
    }
   },
   "outputs": [
    {
     "data": {
      "image/png": "[encoded data removed]",
      "text/plain": [
       "<Figure size 648x432 with 2 Axes>"
      ]
     },
     "metadata": {
      "needs_background": "light"
     },
     "output_type": "display_data"
    }
   ],
   "source": [
    "cm = confusion_matrix(y_test, y_pred_lemm_nb_bow)\n",
    "plt.figure(figsize=(9, 6))\n",
    "sns.heatmap(cm, annot=True, fmt='d')\n",
    "plt.title('Test Confusion Matrix')\n",
    "plt.show()"
   ]
  },
  {
   "cell_type": "markdown",
   "id": "a84805ce",
   "metadata": {},
   "source": [
    "### Stems"
   ]
  },
  {
   "cell_type": "code",
   "execution_count": 159,
   "id": "5c501684",
   "metadata": {
    "ExecuteTime": {
     "end_time": "2023-04-11T11:38:07.871709Z",
     "start_time": "2023-04-11T11:38:07.840828Z"
    }
   },
   "outputs": [
    {
     "name": "stdout",
     "output_type": "stream",
     "text": [
      "Test Accuracy:  0.3424657534246575\n",
      "F1:  0.17765835285471496\n"
     ]
    }
   ],
   "source": [
    "clf = MultinomialNB()\n",
    "clf.fit(X_train_stemm_bow, y_train_upsample)\n",
    "\n",
    "y_pred_stem_nb_bow = clf.predict(X_test_stemm_bow) \n",
    "\n",
    "accuracy_stem_nb_bow = accuracy_score(y_test, y_pred_stem_nb_bow)\n",
    "f1_stem_nb_bow = f1_score(y_test, y_pred_stem_nb_bow, average='macro')\n",
    "\n",
    "\n",
    "print('Test Accuracy: ', accuracy_stem_nb_bow) \n",
    "print('F1: ', f1_stem_nb_bow)"
   ]
  },
  {
   "cell_type": "code",
   "execution_count": 160,
   "id": "f958dae7",
   "metadata": {
    "ExecuteTime": {
     "end_time": "2023-04-11T11:38:08.198968Z",
     "start_time": "2023-04-11T11:38:07.873477Z"
    }
   },
   "outputs": [
    {
     "data": {
      "image/png": "[encoded data removed]",
      "text/plain": [
       "<Figure size 648x432 with 2 Axes>"
      ]
     },
     "metadata": {
      "needs_background": "light"
     },
     "output_type": "display_data"
    }
   ],
   "source": [
    "cm = confusion_matrix(y_test, y_pred_stem_nb_bow)\n",
    "plt.figure(figsize=(9, 6))\n",
    "sns.heatmap(cm, annot=True, fmt='d')\n",
    "plt.title('Test Confusion Matrix')\n",
    "plt.show()"
   ]
  },
  {
   "cell_type": "markdown",
   "id": "a266bd4a",
   "metadata": {},
   "source": [
    "## Naive Bayes (TF-IDF)"
   ]
  },
  {
   "cell_type": "markdown",
   "id": "c86d906f",
   "metadata": {},
   "source": [
    "### Lemmas"
   ]
  },
  {
   "cell_type": "code",
   "execution_count": 161,
   "id": "cd7e1148",
   "metadata": {
    "ExecuteTime": {
     "end_time": "2023-04-11T11:38:08.214201Z",
     "start_time": "2023-04-11T11:38:08.200097Z"
    }
   },
   "outputs": [
    {
     "name": "stdout",
     "output_type": "stream",
     "text": [
      "Test Accuracy:  0.3424657534246575\n",
      "F1:  0.28251716407454114\n"
     ]
    }
   ],
   "source": [
    "clf = MultinomialNB(alpha=1)\n",
    "clf.fit(X_train_lemm_tfidf, y_train_upsample)\n",
    "\n",
    "y_pred_lemm_nb_tfidf = clf.predict(X_test_lemm_tfidf)\n",
    "\n",
    "accuracy_lemm_nb_tfidf = accuracy_score(y_test, y_pred_lemm_nb_tfidf)\n",
    "f1_lemm_nb_tfidf = f1_score(y_test, y_pred_lemm_nb_tfidf, average='macro')\n",
    "\n",
    "\n",
    "print('Test Accuracy: ', accuracy_lemm_nb_tfidf) \n",
    "print('F1: ', f1_lemm_nb_tfidf)"
   ]
  },
  {
   "cell_type": "code",
   "execution_count": 162,
   "id": "76c36d7e",
   "metadata": {
    "ExecuteTime": {
     "end_time": "2023-04-11T11:38:08.511265Z",
     "start_time": "2023-04-11T11:38:08.215796Z"
    }
   },
   "outputs": [
    {
     "data": {
      "image/png": "[encoded data removed]",
      "text/plain": [
       "<Figure size 648x432 with 2 Axes>"
      ]
     },
     "metadata": {
      "needs_background": "light"
     },
     "output_type": "display_data"
    }
   ],
   "source": [
    "cm = confusion_matrix(y_test, y_pred_lemm_nb_tfidf)\n",
    "plt.figure(figsize=(9, 6))\n",
    "sns.heatmap(cm, annot=True, fmt='d')\n",
    "plt.title('Test Confusion Matrix')\n",
    "plt.show()"
   ]
  },
  {
   "cell_type": "markdown",
   "id": "0369b476",
   "metadata": {},
   "source": [
    "### Stem"
   ]
  },
  {
   "cell_type": "code",
   "execution_count": 163,
   "id": "03420571",
   "metadata": {
    "ExecuteTime": {
     "end_time": "2023-04-11T11:38:08.526929Z",
     "start_time": "2023-04-11T11:38:08.513917Z"
    }
   },
   "outputs": [
    {
     "name": "stdout",
     "output_type": "stream",
     "text": [
      "Test Accuracy:  0.3424657534246575\n",
      "F1:  0.28251716407454114\n"
     ]
    }
   ],
   "source": [
    "clf = MultinomialNB(alpha=1)\n",
    "clf.fit(X_train_stemm_tfidf, y_train_upsample)\n",
    "\n",
    "y_pred_stemm_nb_tfidf = clf.predict(X_test_stemm_tfidf)\n",
    "\n",
    "accuracy_stem_nb_tfidf = accuracy_score(y_test, y_pred_stemm_nb_tfidf)\n",
    "f1_stem_nb_tfidf = f1_score(y_test, y_pred_stemm_nb_tfidf, average='macro')\n",
    "\n",
    "\n",
    "print('Test Accuracy: ', accuracy_stem_nb_tfidf) \n",
    "print('F1: ', f1_stem_nb_tfidf)"
   ]
  },
  {
   "cell_type": "code",
   "execution_count": 164,
   "id": "e3e82aa2",
   "metadata": {
    "ExecuteTime": {
     "end_time": "2023-04-11T11:38:09.105077Z",
     "start_time": "2023-04-11T11:38:08.528843Z"
    }
   },
   "outputs": [
    {
     "data": {
      "image/png": "[encoded data removed]",
      "text/plain": [
       "<Figure size 648x432 with 2 Axes>"
      ]
     },
     "metadata": {
      "needs_background": "light"
     },
     "output_type": "display_data"
    }
   ],
   "source": [
    "cm = confusion_matrix(y_test, y_pred_stemm_nb_tfidf)\n",
    "plt.figure(figsize=(9, 6))\n",
    "sns.heatmap(cm, annot=True, fmt='d')\n",
    "plt.title('Test Confusion Matrix')\n",
    "plt.show()"
   ]
  },
  {
   "cell_type": "markdown",
   "id": "907d5811",
   "metadata": {},
   "source": [
    "## Random Forest (BoW)"
   ]
  },
  {
   "cell_type": "markdown",
   "id": "1c4912aa",
   "metadata": {},
   "source": [
    "**Later I need to add fit model's parameters**"
   ]
  },
  {
   "cell_type": "markdown",
   "id": "00b518ab",
   "metadata": {},
   "source": [
    "### Lemmas"
   ]
  },
  {
   "cell_type": "code",
   "execution_count": 165,
   "id": "01cceef4",
   "metadata": {
    "ExecuteTime": {
     "end_time": "2023-04-11T11:38:09.401361Z",
     "start_time": "2023-04-11T11:38:09.108210Z"
    }
   },
   "outputs": [
    {
     "data": {
      "text/plain": [
       "RandomForestClassifier(class_weight='balanced', max_depth=9, n_estimators=90,\n",
       "                       random_state=12345)"
      ]
     },
     "execution_count": 165,
     "metadata": {},
     "output_type": "execute_result"
    }
   ],
   "source": [
    "randomforest = RandomForestClassifier(n_estimators=90, max_depth=9, random_state = 12345, class_weight='balanced')\n",
    "randomforest.fit(X_train_lemm_bow, y_train_upsample)"
   ]
  },
  {
   "cell_type": "code",
   "execution_count": 166,
   "id": "e4e3b05d",
   "metadata": {
    "ExecuteTime": {
     "end_time": "2023-04-11T11:38:09.433023Z",
     "start_time": "2023-04-11T11:38:09.403982Z"
    }
   },
   "outputs": [
    {
     "name": "stdout",
     "output_type": "stream",
     "text": [
      "Test Accuracy:  0.3698630136986301\n",
      "F1:  0.2630440049794888\n"
     ]
    }
   ],
   "source": [
    "y_pred_lemm_rf_bow = randomforest.predict(X_test_lemm_bow)\n",
    "\n",
    "accuracy_lemm_rf_bow = accuracy_score(y_test, y_pred_lemm_rf_bow)\n",
    "f1_lemm_rf_bow = f1_score(y_test, y_pred_lemm_rf_bow, average='macro')\n",
    "\n",
    "\n",
    "print('Test Accuracy: ', accuracy_lemm_rf_bow) \n",
    "print('F1: ', f1_lemm_rf_bow)"
   ]
  },
  {
   "cell_type": "code",
   "execution_count": 167,
   "id": "58484585",
   "metadata": {
    "ExecuteTime": {
     "end_time": "2023-04-11T11:38:09.746780Z",
     "start_time": "2023-04-11T11:38:09.435018Z"
    }
   },
   "outputs": [
    {
     "data": {
      "image/png": "[encoded data removed]",
      "text/plain": [
       "<Figure size 648x432 with 2 Axes>"
      ]
     },
     "metadata": {
      "needs_background": "light"
     },
     "output_type": "display_data"
    }
   ],
   "source": [
    "cm = confusion_matrix(y_test, y_pred_lemm_rf_bow)\n",
    "plt.figure(figsize=(9, 6))\n",
    "sns.heatmap(cm, annot=True, fmt='d')\n",
    "plt.title('Test Confusion Matrix')\n",
    "plt.show()"
   ]
  },
  {
   "cell_type": "markdown",
   "id": "56086471",
   "metadata": {},
   "source": [
    "### Stems"
   ]
  },
  {
   "cell_type": "code",
   "execution_count": 168,
   "id": "52e1c94d",
   "metadata": {
    "ExecuteTime": {
     "end_time": "2023-04-11T11:38:10.041647Z",
     "start_time": "2023-04-11T11:38:09.748623Z"
    }
   },
   "outputs": [
    {
     "data": {
      "text/plain": [
       "RandomForestClassifier(class_weight='balanced', max_depth=9, n_estimators=90,\n",
       "                       random_state=12345)"
      ]
     },
     "execution_count": 168,
     "metadata": {},
     "output_type": "execute_result"
    }
   ],
   "source": [
    "randomforest = RandomForestClassifier(n_estimators=90, max_depth=9, random_state = 12345, class_weight='balanced')\n",
    "randomforest.fit(X_train_stemm_bow, y_train_upsample)"
   ]
  },
  {
   "cell_type": "code",
   "execution_count": 169,
   "id": "102903e4",
   "metadata": {
    "ExecuteTime": {
     "end_time": "2023-04-11T11:38:10.073906Z",
     "start_time": "2023-04-11T11:38:10.044727Z"
    }
   },
   "outputs": [
    {
     "name": "stdout",
     "output_type": "stream",
     "text": [
      "Test Accuracy:  0.3561643835616438\n",
      "F1:  0.2573569265104416\n"
     ]
    }
   ],
   "source": [
    "y_pred_stem_rf_bow = randomforest.predict(X_test_stemm_bow)\n",
    "\n",
    "accuracy_stem_rf_bow = accuracy_score(y_test, y_pred_stem_rf_bow)\n",
    "f1_stem_rf_bow = f1_score(y_test, y_pred_stem_rf_bow, average='macro')\n",
    "\n",
    "\n",
    "print('Test Accuracy: ', accuracy_stem_rf_bow) \n",
    "print('F1: ', f1_stem_rf_bow)"
   ]
  },
  {
   "cell_type": "code",
   "execution_count": 170,
   "id": "bcf64510",
   "metadata": {
    "ExecuteTime": {
     "end_time": "2023-04-11T11:38:10.326086Z",
     "start_time": "2023-04-11T11:38:10.075331Z"
    }
   },
   "outputs": [
    {
     "data": {
      "image/png": "[encoded data removed]",
      "text/plain": [
       "<Figure size 648x432 with 2 Axes>"
      ]
     },
     "metadata": {
      "needs_background": "light"
     },
     "output_type": "display_data"
    }
   ],
   "source": [
    "cm = confusion_matrix(y_test, y_pred_stem_rf_bow)\n",
    "plt.figure(figsize=(9, 6))\n",
    "sns.heatmap(cm, annot=True, fmt='d')\n",
    "plt.title('Test Confusion Matrix')\n",
    "plt.show()"
   ]
  },
  {
   "cell_type": "markdown",
   "id": "7e4475d4",
   "metadata": {},
   "source": [
    "## Random Forest (TF-IDF)"
   ]
  },
  {
   "cell_type": "markdown",
   "id": "bd757f36",
   "metadata": {},
   "source": [
    "### Lemmas"
   ]
  },
  {
   "cell_type": "code",
   "execution_count": 171,
   "id": "030135fd",
   "metadata": {
    "ExecuteTime": {
     "end_time": "2023-04-11T11:38:10.481902Z",
     "start_time": "2023-04-11T11:38:10.328503Z"
    }
   },
   "outputs": [
    {
     "data": {
      "text/plain": [
       "RandomForestClassifier(class_weight='balanced', max_depth=9, n_estimators=90,\n",
       "                       random_state=12345)"
      ]
     },
     "execution_count": 171,
     "metadata": {},
     "output_type": "execute_result"
    }
   ],
   "source": [
    "randomforest = RandomForestClassifier(n_estimators=90, max_depth=9, random_state = 12345, class_weight='balanced')\n",
    "randomforest.fit(X_train_lemm_tfidf, y_train_upsample)"
   ]
  },
  {
   "cell_type": "code",
   "execution_count": 172,
   "id": "ea3310be",
   "metadata": {
    "ExecuteTime": {
     "end_time": "2023-04-11T11:38:10.512989Z",
     "start_time": "2023-04-11T11:38:10.484071Z"
    }
   },
   "outputs": [
    {
     "name": "stdout",
     "output_type": "stream",
     "text": [
      "Test Accuracy:  0.4657534246575342\n",
      "F1:  0.30931159861977475\n"
     ]
    }
   ],
   "source": [
    "y_pred_lemm_rf_tfidf = randomforest.predict(X_test_lemm_tfidf)\n",
    "\n",
    "accuracy_lemm_rf_tfidf = accuracy_score(y_test, y_pred_lemm_rf_tfidf)\n",
    "f1_lemm_rf_tfidf = f1_score(y_test, y_pred_lemm_rf_tfidf, average='macro')\n",
    "\n",
    "\n",
    "print('Test Accuracy: ', accuracy_lemm_rf_tfidf) \n",
    "print('F1: ', f1_lemm_rf_tfidf)"
   ]
  },
  {
   "cell_type": "code",
   "execution_count": 173,
   "id": "15d83134",
   "metadata": {
    "ExecuteTime": {
     "end_time": "2023-04-11T11:38:10.795377Z",
     "start_time": "2023-04-11T11:38:10.514012Z"
    }
   },
   "outputs": [
    {
     "data": {
      "image/png": "[encoded data removed]",
      "text/plain": [
       "<Figure size 648x432 with 2 Axes>"
      ]
     },
     "metadata": {
      "needs_background": "light"
     },
     "output_type": "display_data"
    }
   ],
   "source": [
    "cm = confusion_matrix(y_test, y_pred_lemm_rf_tfidf)\n",
    "plt.figure(figsize=(9, 6))\n",
    "sns.heatmap(cm, annot=True, fmt='d')\n",
    "plt.title('Test Confusion Matrix')\n",
    "plt.show()"
   ]
  },
  {
   "cell_type": "markdown",
   "id": "44591740",
   "metadata": {},
   "source": [
    "### Stem"
   ]
  },
  {
   "cell_type": "code",
   "execution_count": 174,
   "id": "4d8cf4b9",
   "metadata": {
    "ExecuteTime": {
     "end_time": "2023-04-11T11:38:10.935657Z",
     "start_time": "2023-04-11T11:38:10.797365Z"
    }
   },
   "outputs": [
    {
     "data": {
      "text/plain": [
       "RandomForestClassifier(class_weight='balanced', max_depth=9, n_estimators=90,\n",
       "                       random_state=12345)"
      ]
     },
     "execution_count": 174,
     "metadata": {},
     "output_type": "execute_result"
    }
   ],
   "source": [
    "randomforest = RandomForestClassifier(n_estimators=90, max_depth=9, random_state = 12345, class_weight='balanced')\n",
    "randomforest.fit(X_train_stemm_tfidf, y_train_upsample)"
   ]
  },
  {
   "cell_type": "code",
   "execution_count": 175,
   "id": "2607318f",
   "metadata": {
    "ExecuteTime": {
     "end_time": "2023-04-11T11:38:10.966596Z",
     "start_time": "2023-04-11T11:38:10.937757Z"
    }
   },
   "outputs": [
    {
     "name": "stdout",
     "output_type": "stream",
     "text": [
      "Test Accuracy:  0.4383561643835616\n",
      "F1:  0.28301780482307864\n"
     ]
    }
   ],
   "source": [
    "y_pred_stem_rf_tfidf = randomforest.predict(X_test_stemm_tfidf)\n",
    "\n",
    "accuracy_stem_rf_tfidf = accuracy_score(y_test, y_pred_stem_rf_tfidf)\n",
    "f1_stem_rf_tfidf = f1_score(y_test, y_pred_stem_rf_tfidf, average='macro')\n",
    "\n",
    "\n",
    "print('Test Accuracy: ', accuracy_stem_rf_tfidf) \n",
    "print('F1: ', f1_stem_rf_tfidf)"
   ]
  },
  {
   "cell_type": "code",
   "execution_count": 176,
   "id": "f5f007c6",
   "metadata": {
    "ExecuteTime": {
     "end_time": "2023-04-11T11:38:11.231601Z",
     "start_time": "2023-04-11T11:38:10.968758Z"
    }
   },
   "outputs": [
    {
     "data": {
      "image/png": "[encoded data removed]",
      "text/plain": [
       "<Figure size 648x432 with 2 Axes>"
      ]
     },
     "metadata": {
      "needs_background": "light"
     },
     "output_type": "display_data"
    }
   ],
   "source": [
    "cm = confusion_matrix(y_test, y_pred_stem_rf_tfidf)\n",
    "plt.figure(figsize=(9, 6))\n",
    "sns.heatmap(cm, annot=True, fmt='d')\n",
    "plt.title('Test Confusion Matrix')\n",
    "plt.show()"
   ]
  },
  {
   "cell_type": "markdown",
   "id": "14671436",
   "metadata": {},
   "source": [
    "## Logistic Regression (BoW)"
   ]
  },
  {
   "cell_type": "markdown",
   "id": "26583420",
   "metadata": {},
   "source": [
    "### Lemmas"
   ]
  },
  {
   "cell_type": "code",
   "execution_count": 177,
   "id": "8058d9d1",
   "metadata": {
    "ExecuteTime": {
     "end_time": "2023-04-11T11:38:11.541629Z",
     "start_time": "2023-04-11T11:38:11.233326Z"
    }
   },
   "outputs": [
    {
     "name": "stdout",
     "output_type": "stream",
     "text": [
      "Test Accuracy:  0.4383561643835616\n",
      "F1:  0.2798422824738614\n"
     ]
    }
   ],
   "source": [
    "clf = LogisticRegression(penalty='l2', random_state=12345, solver='liblinear')\n",
    "clf.fit(X_train_lemm_bow, y_train_upsample)\n",
    "\n",
    "y_pred_lemm_lr_bow = clf.predict(X_test_lemm_bow)\n",
    "\n",
    "accuracy_lemm_lr_bow = accuracy_score(y_test, y_pred_lemm_lr_bow)\n",
    "f1_lemm_lr_bow = f1_score(y_test, y_pred_lemm_lr_bow, average='macro')\n",
    "\n",
    "\n",
    "print('Test Accuracy: ', accuracy_lemm_lr_bow) \n",
    "print('F1: ', f1_lemm_lr_bow)"
   ]
  },
  {
   "cell_type": "code",
   "execution_count": 178,
   "id": "0f6377c1",
   "metadata": {
    "ExecuteTime": {
     "end_time": "2023-04-11T11:38:11.851172Z",
     "start_time": "2023-04-11T11:38:11.543647Z"
    }
   },
   "outputs": [
    {
     "data": {
      "image/png": "[encoded data removed]",
      "text/plain": [
       "<Figure size 648x432 with 2 Axes>"
      ]
     },
     "metadata": {
      "needs_background": "light"
     },
     "output_type": "display_data"
    }
   ],
   "source": [
    "cm = confusion_matrix(y_test, y_pred_lemm_lr_bow)\n",
    "plt.figure(figsize=(9, 6))\n",
    "sns.heatmap(cm, annot=True, fmt='d')\n",
    "plt.title('Test Confusion Matrix')\n",
    "plt.show()"
   ]
  },
  {
   "cell_type": "markdown",
   "id": "4654c6cb",
   "metadata": {},
   "source": [
    "### Stems"
   ]
  },
  {
   "cell_type": "code",
   "execution_count": 179,
   "id": "2bb82dff",
   "metadata": {
    "ExecuteTime": {
     "end_time": "2023-04-11T11:38:12.177984Z",
     "start_time": "2023-04-11T11:38:11.853180Z"
    }
   },
   "outputs": [
    {
     "name": "stdout",
     "output_type": "stream",
     "text": [
      "Test Accuracy:  0.3972602739726027\n",
      "F1:  0.26349882618902704\n"
     ]
    }
   ],
   "source": [
    "clf = LogisticRegression(penalty='l2', random_state=12345, solver='liblinear')\n",
    "clf.fit(X_train_stemm_bow, y_train_upsample)\n",
    "\n",
    "y_pred_stem_lr_bow = clf.predict(X_test_stemm_bow)\n",
    "\n",
    "accuracy_stem_lr_bow = accuracy_score(y_test, y_pred_stem_lr_bow)\n",
    "f1_stem_lr_bow = f1_score(y_test, y_pred_stem_lr_bow, average='macro')\n",
    "\n",
    "\n",
    "print('Test Accuracy: ', accuracy_stem_lr_bow) \n",
    "print('F1: ', f1_stem_lr_bow)"
   ]
  },
  {
   "cell_type": "code",
   "execution_count": 180,
   "id": "bb15cba7",
   "metadata": {
    "ExecuteTime": {
     "end_time": "2023-04-11T11:38:12.502414Z",
     "start_time": "2023-04-11T11:38:12.179482Z"
    }
   },
   "outputs": [
    {
     "data": {
      "image/png": "[encoded data removed]",
      "text/plain": [
       "<Figure size 648x432 with 2 Axes>"
      ]
     },
     "metadata": {
      "needs_background": "light"
     },
     "output_type": "display_data"
    }
   ],
   "source": [
    "cm = confusion_matrix(y_test, y_pred_stem_lr_bow)\n",
    "plt.figure(figsize=(9, 6))\n",
    "sns.heatmap(cm, annot=True, fmt='d')\n",
    "plt.title('Test Confusion Matrix')\n",
    "plt.show()"
   ]
  },
  {
   "cell_type": "markdown",
   "id": "e86aff5f",
   "metadata": {},
   "source": [
    "## Logistic Regression: TF-IDF"
   ]
  },
  {
   "cell_type": "markdown",
   "id": "6ae8c3e5",
   "metadata": {},
   "source": [
    "### Lemmas"
   ]
  },
  {
   "cell_type": "code",
   "execution_count": 181,
   "id": "c0b0f12a",
   "metadata": {
    "ExecuteTime": {
     "end_time": "2023-04-11T11:38:12.517806Z",
     "start_time": "2023-04-11T11:38:12.505855Z"
    }
   },
   "outputs": [],
   "source": [
    "#import warnings\n",
    "#warnings.filterwarnings('ignore')"
   ]
  },
  {
   "cell_type": "code",
   "execution_count": 182,
   "id": "1820238f",
   "metadata": {
    "ExecuteTime": {
     "end_time": "2023-04-11T11:38:12.533629Z",
     "start_time": "2023-04-11T11:38:12.519804Z"
    }
   },
   "outputs": [
    {
     "name": "stdout",
     "output_type": "stream",
     "text": [
      "Test Accuracy:  0.3835616438356164\n",
      "F1:  0.3306878306878307\n"
     ]
    }
   ],
   "source": [
    "clf = LogisticRegression(penalty='l2', random_state=12345, solver='liblinear')\n",
    "clf.fit(X_train_lemm_tfidf, y_train_upsample)\n",
    "\n",
    "y_pred_lemm_lr_tfidf = clf.predict(X_test_lemm_tfidf)\n",
    "\n",
    "accuracy_lemm_lr_tfidf = accuracy_score(y_test, y_pred_lemm_lr_tfidf)\n",
    "f1_lemm_lr_tfidf = f1_score(y_test, y_pred_lemm_lr_tfidf, average='macro')\n",
    "\n",
    "\n",
    "print('Test Accuracy: ', accuracy_lemm_lr_tfidf) \n",
    "print('F1: ', f1_lemm_lr_tfidf)"
   ]
  },
  {
   "cell_type": "code",
   "execution_count": 183,
   "id": "4589189d",
   "metadata": {
    "ExecuteTime": {
     "end_time": "2023-04-11T11:38:12.798867Z",
     "start_time": "2023-04-11T11:38:12.535128Z"
    }
   },
   "outputs": [
    {
     "data": {
      "image/png": "[encoded data removed]",
      "text/plain": [
       "<Figure size 648x432 with 2 Axes>"
      ]
     },
     "metadata": {
      "needs_background": "light"
     },
     "output_type": "display_data"
    }
   ],
   "source": [
    "cm = confusion_matrix(y_test, y_pred_lemm_lr_tfidf)\n",
    "plt.figure(figsize=(9, 6))\n",
    "sns.heatmap(cm, annot=True, fmt='d')\n",
    "plt.title('Test Confusion Matrix')\n",
    "plt.show()"
   ]
  },
  {
   "cell_type": "markdown",
   "id": "6db3b3d9",
   "metadata": {},
   "source": [
    "### Stems"
   ]
  },
  {
   "cell_type": "code",
   "execution_count": 184,
   "id": "0b557156",
   "metadata": {
    "ExecuteTime": {
     "end_time": "2023-04-11T11:38:12.830819Z",
     "start_time": "2023-04-11T11:38:12.801662Z"
    }
   },
   "outputs": [
    {
     "name": "stdout",
     "output_type": "stream",
     "text": [
      "Test Accuracy:  0.3835616438356164\n",
      "F1:  0.3306878306878307\n"
     ]
    }
   ],
   "source": [
    "clf = LogisticRegression(penalty='l2', random_state=12345, solver='liblinear')\n",
    "clf.fit(X_train_stemm_tfidf, y_train_upsample)\n",
    "\n",
    "y_pred_stem_lr_tfidf = clf.predict(X_test_stemm_tfidf)\n",
    "\n",
    "accuracy_stem_lr_tfidf = accuracy_score(y_test, y_pred_stem_lr_tfidf)\n",
    "f1_stem_lr_tfidf = f1_score(y_test, y_pred_stem_lr_tfidf, average='macro')\n",
    "\n",
    "\n",
    "print('Test Accuracy: ', accuracy_stem_lr_tfidf) \n",
    "print('F1: ', f1_stem_lr_tfidf)"
   ]
  },
  {
   "cell_type": "code",
   "execution_count": 185,
   "id": "4fce1486",
   "metadata": {
    "ExecuteTime": {
     "end_time": "2023-04-11T11:38:13.125800Z",
     "start_time": "2023-04-11T11:38:12.832967Z"
    }
   },
   "outputs": [
    {
     "data": {
      "image/png": "[encoded data removed]",
      "text/plain": [
       "<Figure size 648x432 with 2 Axes>"
      ]
     },
     "metadata": {
      "needs_background": "light"
     },
     "output_type": "display_data"
    }
   ],
   "source": [
    "cm = confusion_matrix(y_test, y_pred_stem_lr_tfidf)\n",
    "plt.figure(figsize=(9, 6))\n",
    "sns.heatmap(cm, annot=True, fmt='d')\n",
    "plt.title('Test Confusion Matrix')\n",
    "plt.show()"
   ]
  },
  {
   "cell_type": "markdown",
   "id": "ab2468a5",
   "metadata": {},
   "source": [
    "## Random Forest: alternative"
   ]
  },
  {
   "cell_type": "markdown",
   "id": "03aa6af7",
   "metadata": {},
   "source": [
    "**It's first experiment. Later would be better add others models in alternative way**"
   ]
  },
  {
   "cell_type": "code",
   "execution_count": 186,
   "id": "6bc59e39",
   "metadata": {
    "ExecuteTime": {
     "end_time": "2023-04-11T11:38:13.141480Z",
     "start_time": "2023-04-11T11:38:13.127759Z"
    }
   },
   "outputs": [],
   "source": [
    "randomforest = RandomForestClassifier(n_estimators=90, max_depth=9, random_state = 12345, class_weight='balanced')"
   ]
  },
  {
   "cell_type": "code",
   "execution_count": 187,
   "id": "ee26a71a",
   "metadata": {
    "ExecuteTime": {
     "end_time": "2023-04-11T11:38:13.157031Z",
     "start_time": "2023-04-11T11:38:13.143396Z"
    }
   },
   "outputs": [],
   "source": [
    "X_train_alt_upsample = X_train_upsample[['a1_subs', 'a2_subs', 'b1_subs', 'b2_subs', 'c1_subs', 'others_subs']]\n",
    "X_test_alt = X_test[['a1_subs', 'a2_subs', 'b1_subs', 'b2_subs', 'c1_subs', 'others_subs']]"
   ]
  },
  {
   "cell_type": "code",
   "execution_count": 188,
   "id": "b9353956",
   "metadata": {
    "ExecuteTime": {
     "end_time": "2023-04-11T11:38:13.281435Z",
     "start_time": "2023-04-11T11:38:13.158155Z"
    }
   },
   "outputs": [
    {
     "data": {
      "text/plain": [
       "RandomForestClassifier(class_weight='balanced', max_depth=9, n_estimators=90,\n",
       "                       random_state=12345)"
      ]
     },
     "execution_count": 188,
     "metadata": {},
     "output_type": "execute_result"
    }
   ],
   "source": [
    "randomforest.fit(X_train_alt_upsample, y_train_upsample)"
   ]
  },
  {
   "cell_type": "code",
   "execution_count": 189,
   "id": "0457ae54",
   "metadata": {
    "ExecuteTime": {
     "end_time": "2023-04-11T11:38:13.312820Z",
     "start_time": "2023-04-11T11:38:13.283445Z"
    }
   },
   "outputs": [
    {
     "name": "stdout",
     "output_type": "stream",
     "text": [
      "Test Accuracy:  0.3561643835616438\n",
      "F1:  0.3462443058031293\n"
     ]
    }
   ],
   "source": [
    "y_pred_rf_alt = randomforest.predict(X_test_alt)\n",
    "\n",
    "accuracy_rf_alt = accuracy_score(y_test, y_pred_rf_alt)\n",
    "f1_rf_alt = f1_score(y_test, y_pred_rf_alt, average='macro')\n",
    "\n",
    "print('Test Accuracy: ', accuracy_rf_alt)\n",
    "print('F1: ', f1_rf_alt)"
   ]
  },
  {
   "cell_type": "code",
   "execution_count": 190,
   "id": "1ba61871",
   "metadata": {
    "ExecuteTime": {
     "end_time": "2023-04-11T11:38:13.606439Z",
     "start_time": "2023-04-11T11:38:13.313820Z"
    }
   },
   "outputs": [
    {
     "data": {
      "image/png": "[encoded data removed]",
      "text/plain": [
       "<Figure size 648x432 with 2 Axes>"
      ]
     },
     "metadata": {
      "needs_background": "light"
     },
     "output_type": "display_data"
    }
   ],
   "source": [
    "cm = confusion_matrix(y_test, y_pred_rf_alt)\n",
    "plt.figure(figsize=(9, 6))\n",
    "sns.heatmap(cm, annot=True, fmt='d')\n",
    "plt.title('Test Confusion Matrix')\n",
    "plt.show()"
   ]
  },
  {
   "cell_type": "markdown",
   "id": "f752335b",
   "metadata": {},
   "source": [
    "# Results"
   ]
  },
  {
   "cell_type": "code",
   "execution_count": 191,
   "id": "59ac5891",
   "metadata": {
    "ExecuteTime": {
     "end_time": "2023-04-11T11:38:13.637912Z",
     "start_time": "2023-04-11T11:38:13.609890Z"
    }
   },
   "outputs": [
    {
     "name": "stdout",
     "output_type": "stream",
     "text": [
      "N-GRAMMS (FROM - TO) : ( 3 ,  3 )\n",
      "\n",
      " Naive Bayes\n",
      "\n",
      "Naive Bayes, Lemm, BoW \n",
      "\n",
      "Test Accuracy:  0.3424657534246575\n",
      "F1:  0.17765835285471496\n",
      "\n",
      "Naive Bayes, Stem, BoW \n",
      "\n",
      "Test Accuracy:  0.3424657534246575\n",
      "F1:  0.17765835285471496\n",
      "\n",
      "Naive Bayes, Lemm, TF-IDF \n",
      "\n",
      "Test Accuracy:  0.3424657534246575\n",
      "F1:  0.28251716407454114\n",
      "\n",
      "Naive Bayes, Stem, TF-IDF \n",
      "\n",
      "Test Accuracy:  0.3424657534246575\n",
      "F1:  0.28251716407454114\n",
      "\n",
      " Random Forest\n",
      "\n",
      "Random Forest, Lemm, BoW \n",
      "\n",
      "Test Accuracy:  0.3698630136986301\n",
      "F1:  0.2630440049794888\n",
      "\n",
      "Random Forest, Stem, BoW \n",
      "\n",
      "Test Accuracy:  0.3561643835616438\n",
      "F1:  0.2573569265104416\n",
      "\n",
      "Random Forest, Lemm, TF-IDF \n",
      "\n",
      "Test Accuracy:  0.4657534246575342\n",
      "F1:  0.30931159861977475\n",
      "\n",
      "Random Forest, Stem, TF-IDF \n",
      "\n",
      "Test Accuracy:  0.4383561643835616\n",
      "F1:  0.28301780482307864\n",
      "\n",
      " Logistic Regression\n",
      "\n",
      "Logistic Regression, Lemm, BoW \n",
      "\n",
      "Test Accuracy:  0.3698630136986301\n",
      "F1:  0.2630440049794888\n",
      "\n",
      "Logistic Regression, Stem, BoW \n",
      "\n",
      "Test Accuracy:  0.3972602739726027\n",
      "F1:  0.26349882618902704\n",
      "\n",
      "Logistic Regression, Lemm, TF-IDF \n",
      "\n",
      "Test Accuracy:  0.3835616438356164\n",
      "F1:  0.3306878306878307\n",
      "\n",
      "Logistic Regression, Stem, TF-IDF \n",
      "\n",
      "Test Accuracy:  0.3835616438356164\n",
      "F1:  0.3306878306878307\n",
      "\n"
     ]
    }
   ],
   "source": [
    "print(\"N-GRAMMS (FROM - TO) : (\", N_GRAMM_MIN, \", \", N_GRAMM_MAX,\")\")\n",
    "print()\n",
    "\n",
    "print(\" Naive Bayes\")\n",
    "print()\n",
    "\n",
    "print(\"Naive Bayes, Lemm, BoW\", '\\n')\n",
    "print('Test Accuracy: ', accuracy_lemm_nb_bow) \n",
    "print('F1: ', f1_lemm_nb_bow)\n",
    "print()\n",
    "\n",
    "print(\"Naive Bayes, Stem, BoW\", '\\n')\n",
    "print('Test Accuracy: ', accuracy_stem_nb_bow) \n",
    "print('F1: ', f1_stem_nb_bow)\n",
    "print()\n",
    "\n",
    "print(\"Naive Bayes, Lemm, TF-IDF\", '\\n')\n",
    "print('Test Accuracy: ', accuracy_lemm_nb_tfidf) \n",
    "print('F1: ', f1_lemm_nb_tfidf)\n",
    "print()\n",
    "\n",
    "print(\"Naive Bayes, Stem, TF-IDF\", '\\n')\n",
    "print('Test Accuracy: ', accuracy_stem_nb_tfidf) \n",
    "print('F1: ', f1_stem_nb_tfidf)\n",
    "print()\n",
    "\n",
    "print(\" Random Forest\")\n",
    "print()\n",
    "\n",
    "print(\"Random Forest, Lemm, BoW\", '\\n')\n",
    "print('Test Accuracy: ', accuracy_lemm_rf_bow) \n",
    "print('F1: ', f1_lemm_rf_bow)\n",
    "print()\n",
    "\n",
    "print(\"Random Forest, Stem, BoW\", '\\n')\n",
    "print('Test Accuracy: ', accuracy_stem_rf_bow) \n",
    "print('F1: ', f1_stem_rf_bow)\n",
    "print()\n",
    "\n",
    "print(\"Random Forest, Lemm, TF-IDF\", '\\n')\n",
    "print('Test Accuracy: ', accuracy_lemm_rf_tfidf) \n",
    "print('F1: ', f1_lemm_rf_tfidf)\n",
    "print()\n",
    "\n",
    "print(\"Random Forest, Stem, TF-IDF\", '\\n')\n",
    "print('Test Accuracy: ', accuracy_stem_rf_tfidf) \n",
    "print('F1: ', f1_stem_rf_tfidf)\n",
    "print()\n",
    "\n",
    "print(\" Logistic Regression\")\n",
    "print()\n",
    "\n",
    "print(\"Logistic Regression, Lemm, BoW\", '\\n')\n",
    "print('Test Accuracy: ', accuracy_lemm_rf_bow) \n",
    "print('F1: ', f1_lemm_rf_bow)\n",
    "print()\n",
    "\n",
    "print(\"Logistic Regression, Stem, BoW\", '\\n')\n",
    "print('Test Accuracy: ', accuracy_stem_lr_bow) \n",
    "print('F1: ', f1_stem_lr_bow)\n",
    "print()\n",
    "\n",
    "print(\"Logistic Regression, Lemm, TF-IDF\", '\\n')\n",
    "print('Test Accuracy: ', accuracy_lemm_lr_tfidf) \n",
    "print('F1: ', f1_lemm_lr_tfidf)\n",
    "print()\n",
    "\n",
    "print(\"Logistic Regression, Stem, TF-IDF\", '\\n')\n",
    "print('Test Accuracy: ', accuracy_stem_lr_tfidf) \n",
    "print('F1: ', f1_stem_lr_tfidf)\n",
    "print()\n"
   ]
  },
  {
   "cell_type": "markdown",
   "id": "b81f4b30",
   "metadata": {},
   "source": [
    "**Here I need a butifyl table :)**\n",
    "\n",
    "**N-GRAMMS (FROM - TO) : ( 1 ,  1 )**\n",
    "\n",
    " *Naive Bayes*\n",
    "\n",
    "Naive Bayes, Lemm, BoW \n",
    "\n",
    "Test Accuracy:  0.3561643835616438\n",
    "F1:  0.37039682539682545\n",
    "\n",
    "Naive Bayes, Stem, BoW \n",
    "\n",
    "Test Accuracy:  0.3561643835616438\n",
    "F1:  0.3686519323176425\n",
    "\n",
    "Naive Bayes, Lemm, TF-IDF \n",
    "\n",
    "Test Accuracy:  0.3424657534246575\n",
    "F1:  0.25662393162393166\n",
    "\n",
    "Naive Bayes, Stem, TF-IDF \n",
    "\n",
    "Test Accuracy:  0.3424657534246575\n",
    "F1:  0.25662393162393166\n",
    "\n",
    " *Random Forest*\n",
    "\n",
    "Random Forest, Lemm, BoW \n",
    "\n",
    "Test Accuracy:  0.3698630136986301\n",
    "F1:  0.29780237976959284\n",
    "\n",
    "Random Forest, Stem, BoW \n",
    "\n",
    "Test Accuracy:  0.3424657534246575\n",
    "F1:  0.3124661246612466\n",
    "\n",
    "Random Forest, Lemm, TF-IDF \n",
    "\n",
    "Test Accuracy:  0.3424657534246575\n",
    "F1:  0.2926517456178473\n",
    "\n",
    "Random Forest, Stem, TF-IDF \n",
    "\n",
    "Test Accuracy:  0.3972602739726027\n",
    "F1:  0.3711603721948549\n",
    "\n",
    " *Logistic Regression*\n",
    "\n",
    "Logistic Regression, Lemm, BoW \n",
    "\n",
    "Test Accuracy:  0.3698630136986301\n",
    "F1:  0.29780237976959284\n",
    "\n",
    "Logistic Regression, Stem, BoW \n",
    "\n",
    "Test Accuracy:  0.547945205479452\n",
    "F1:  0.49617003367003365\n",
    "\n",
    "Logistic Regression, Lemm, TF-IDF \n",
    "\n",
    "Test Accuracy:  0.3561643835616438\n",
    "F1:  0.31497508523472334\n",
    "\n",
    "Logistic Regression, Stem, TF-IDF \n",
    "\n",
    "Test Accuracy:  0.3561643835616438\n",
    "F1:  0.31497508523472334\n"
   ]
  },
  {
   "cell_type": "markdown",
   "id": "2d0124ff",
   "metadata": {},
   "source": [
    "**N-GRAMMS (FROM - TO) : ( 2 ,  2 )**\n",
    "\n",
    " *Naive Bayes*\n",
    "\n",
    "Naive Bayes, Lemm, BoW \n",
    "\n",
    "Test Accuracy:  0.3287671232876712\n",
    "F1:  0.14409005628517824\n",
    "\n",
    "Naive Bayes, Stem, BoW \n",
    "\n",
    "Test Accuracy:  0.3287671232876712\n",
    "F1:  0.14545223577235775\n",
    "\n",
    "Naive Bayes, Lemm, TF-IDF \n",
    "\n",
    "Test Accuracy:  0.3287671232876712\n",
    "F1:  0.1441919191919192\n",
    "\n",
    "Naive Bayes, Stem, TF-IDF \n",
    "\n",
    "Test Accuracy:  0.3287671232876712\n",
    "F1:  0.14576719576719577\n",
    "\n",
    "* Random Forest*\n",
    "\n",
    "Random Forest, Lemm, BoW \n",
    "\n",
    "Test Accuracy:  0.3287671232876712\n",
    "F1:  0.16956214689265536\n",
    "\n",
    "Random Forest, Stem, BoW \n",
    "\n",
    "Test Accuracy:  0.3561643835616438\n",
    "F1:  0.1994783968468179\n",
    "\n",
    "Random Forest, Lemm, TF-IDF \n",
    "\n",
    "Test Accuracy:  0.4246575342465753\n",
    "F1:  0.27073222319402285\n",
    "\n",
    "Random Forest, Stem, TF-IDF \n",
    "\n",
    "Test Accuracy:  0.410958904109589\n",
    "F1:  0.2368951612903226\n",
    "\n",
    "* Logistic Regression*\n",
    "\n",
    "Logistic Regression, Lemm, BoW \n",
    "\n",
    "Test Accuracy:  0.3287671232876712\n",
    "F1:  0.16956214689265536\n",
    "\n",
    "Logistic Regression, Stem, BoW \n",
    "\n",
    "Test Accuracy:  0.3835616438356164\n",
    "F1:  0.26145159538988944\n",
    "\n",
    "Logistic Regression, Lemm, TF-IDF \n",
    "\n",
    "Test Accuracy:  0.3424657534246575\n",
    "F1:  0.17931395653312385\n",
    "\n",
    "Logistic Regression, Stem, TF-IDF \n",
    "\n",
    "Test Accuracy:  0.3424657534246575\n",
    "F1:  0.17931395653312385"
   ]
  },
  {
   "cell_type": "markdown",
   "id": "2dac5ae9",
   "metadata": {},
   "source": [
    "**N-GRAMMS (FROM - TO) : ( 3 ,  3 )**\n",
    "\n",
    " *Naive Bayes*\n",
    "\n",
    "Naive Bayes, Lemm, BoW \n",
    "\n",
    "Test Accuracy:  0.3424657534246575\n",
    "F1:  0.17765835285471496\n",
    "\n",
    "Naive Bayes, Stem, BoW \n",
    "\n",
    "Test Accuracy:  0.3424657534246575\n",
    "F1:  0.17765835285471496\n",
    "\n",
    "Naive Bayes, Lemm, TF-IDF \n",
    "\n",
    "Test Accuracy:  0.3424657534246575\n",
    "F1:  0.28251716407454114\n",
    "\n",
    "Naive Bayes, Stem, TF-IDF \n",
    "\n",
    "Test Accuracy:  0.3424657534246575\n",
    "F1:  0.28251716407454114\n",
    "\n",
    " *Random Forest*\n",
    "\n",
    "Random Forest, Lemm, BoW \n",
    "\n",
    "Test Accuracy:  0.3698630136986301\n",
    "F1:  0.2630440049794888\n",
    "\n",
    "Random Forest, Stem, BoW \n",
    "\n",
    "Test Accuracy:  0.3561643835616438\n",
    "F1:  0.2573569265104416\n",
    "\n",
    "Random Forest, Lemm, TF-IDF \n",
    "\n",
    "Test Accuracy:  0.4657534246575342\n",
    "F1:  0.30931159861977475\n",
    "\n",
    "Random Forest, Stem, TF-IDF \n",
    "\n",
    "Test Accuracy:  0.4383561643835616\n",
    "F1:  0.28301780482307864\n",
    "\n",
    " *Logistic Regression*\n",
    "\n",
    "Logistic Regression, Lemm, BoW \n",
    "\n",
    "Test Accuracy:  0.3698630136986301\n",
    "F1:  0.2630440049794888\n",
    "\n",
    "Logistic Regression, Stem, BoW \n",
    "\n",
    "Test Accuracy:  0.3972602739726027\n",
    "F1:  0.26349882618902704\n",
    "\n",
    "Logistic Regression, Lemm, TF-IDF \n",
    "\n",
    "Test Accuracy:  0.3835616438356164\n",
    "F1:  0.3306878306878307\n",
    "\n",
    "Logistic Regression, Stem, TF-IDF \n",
    "\n",
    "Test Accuracy:  0.3835616438356164\n",
    "F1:  0.3306878306878307\n"
   ]
  },
  {
   "cell_type": "code",
   "execution_count": null,
   "id": "47c7e5cb",
   "metadata": {},
   "outputs": [],
   "source": []
  }
 ],
 "metadata": {
  "kernelspec": {
   "display_name": "Python 3 (ipykernel)",
   "language": "python",
   "name": "python3"
  },
  "language_info": {
   "codemirror_mode": {
    "name": "ipython",
    "version": 3
   },
   "file_extension": ".py",
   "mimetype": "text/x-python",
   "name": "python",
   "nbconvert_exporter": "python",
   "pygments_lexer": "ipython3",
   "version": "3.9.12"
  },
  "toc": {
   "base_numbering": 1,
   "nav_menu": {},
   "number_sections": true,
   "sideBar": true,
   "skip_h1_title": false,
   "title_cell": "Table of Contents",
   "title_sidebar": "Contents",
   "toc_cell": true,
   "toc_position": {
    "height": "calc(100% - 180px)",
    "left": "10px",
    "top": "150px",
    "width": "276.448px"
   },
   "toc_section_display": true,
   "toc_window_display": true
  }
 },
 "nbformat": 4,
 "nbformat_minor": 5
}
